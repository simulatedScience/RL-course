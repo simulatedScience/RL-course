{
 "cells": [
  {
   "cell_type": "markdown",
   "metadata": {},
   "source": [
    "# Aufgabe 1"
   ]
  },
  {
   "cell_type": "markdown",
   "metadata": {},
   "source": [
    "## Käsekästchen"
   ]
  },
  {
   "cell_type": "markdown",
   "metadata": {},
   "source": [
    "Betrachten wir ein 6x4 Raster für Käsekästchen"
   ]
  },
  {
   "cell_type": "markdown",
   "metadata": {},
   "source": [
    "## Vier gewinnt"
   ]
  },
  {
   "cell_type": "markdown",
   "metadata": {},
   "source": [
    "Wir gehen von einem 7x6 großen Spielfeld aus, welches durch eine Matrix representiert werden kann.\n",
    "\n",
    "### Zustandsraum\n",
    "Die Einträge dieser Matrix sind dann 0 (leer), 1 (Spieler 1), 2 (Spieler 2). \n",
    "\n",
    "Also ist der Zustandsraum $S$ Teilmenge von $\\mathcal{M}_{7\\times6}(\\mathbb{F}_3)$\n",
    "\n",
    "Auch hier gibt es wieder einige einschränkende Regeln:\n",
    "- Es dürfen maximal ein Mal vier ununterbrochene 1en oder 2en in einer Reihe, Spalte oder Diagonale vorkommen, da das Spiel damit endet.\n",
    "- Mindestens eine dieser Zahlen darf nur 0en darüber haben\n",
    "- Alle 0en in der Matrix dürfen keine 1en oder 2en darüber haben.\n",
    "\n",
    "ein Zustand könnte also beispielsweise wie folgt aussehen:\n",
    "\n",
    "$$\n",
    "s = \\left(\\begin{array}{ccccccc}\n",
    "0 & 0 & 0 & 0 & 0 & 0 & 0 \\\\\n",
    "0 & 0 & 0 & 0 & 0 & 0 & 0 \\\\\n",
    "0 & 2 & 0 & 0 & 0 & 0 & 0 \\\\\n",
    "0 & 1 & 1 & 0 & 0 & 0 & 0 \\\\\n",
    "0 & 1 & 2 & 2 & 1 & 0 & 0 \\\\\n",
    "2 & 1 & 1 & 1 & 2 & 0 & 0 \\\\\n",
    "\\end{array}\\right)\n",
    "$$"
   ]
  },
  {
   "cell_type": "markdown",
   "metadata": {},
   "source": [
    "### Aktionsraum\n",
    "\n",
    "Alle möglichen Aktionen können durch einen Spaltenindex $\\{0, ..., 6\\}$ ausgedrückt werden. Der Aktionsraum ist also allgemein $A = \\{0, 1, 2, 3, 4, 5, 6\\}$.\n",
    "\n",
    "Während dem Spiel können Aktionen unmöglich werden, wenn die entsprechende Spalte schon voll ist."
   ]
  },
  {
   "cell_type": "markdown",
   "metadata": {},
   "source": [
    "## Tic Tac Toe"
   ]
  },
  {
   "cell_type": "markdown",
   "metadata": {},
   "source": [
    "### Zustandsraum:\n",
    "es gibt maximal $3^9$ Zustände: jedes der 9 Felder kann 3 Zustände haben: leer, kreis oder kreuz\n",
    "\n",
    "Diese Zustände können als Tupel mit 9 Einträgen aus $\\{0,1,2\\}$ dargestellt werden.\n",
    "Die Menge aller möglichen Zustände ist also definitiv eine Teilmenge von $\\mathbb{F}_3 {} ^9$.\n",
    "\n",
    "- Da das Spiel endet sobald mindestens eine Reihe, Spalte oder Diagonale nur 1en oder 2en enthält, sind viele dieser Zustände nicht möglich (alle mit mehr Folgen gleicher Zahlen ungleich 0)\n",
    "\n",
    "- Außerdem müssen die Spieler abwechselnd Symbole setzen. Das heißt die Anzahl an 2en und 1en darf sich maximal um 1 unterscheiden. Legt man das Zeichen des Startspielers fest, z.B: 1, so kann man genauer sagen:\n",
    "\n",
    "    Die Anzahl an 1en muss größer oder gleich der Anzahl an 2en sein und darf sich maximal um 1 unterscheiden.\n",
    "\n",
    "Ein möglicher Zustand wäre also z.B: $s = (0,1,2,0,2,2,1,0,1)$, welcher das Spielfeld \n",
    "$\\begin{array}{c|c|c}\n",
    "  & x & o \\\\\n",
    "  \\hline\n",
    "  & o & o \\\\\n",
    "  \\hline\n",
    "x &   & x \\\\\n",
    "\\end{array}$\n",
    "darstellt."
   ]
  },
  {
   "cell_type": "markdown",
   "metadata": {},
   "source": [
    "### Aktionsraum:\n",
    "Jede Aktion kann als einzelne natürliche Zahl von 0 bis 8 aufgefasst werden.\n",
    "\n",
    "Diese Zahlen entsprechen den Feldern im 3x3 Raster wie folgt: $\\begin{array}{c|c|c}\n",
    " 0 & 1 & 2 \\\\\n",
    "  \\hline\n",
    " 3 & 4 & 5 \\\\\n",
    "  \\hline\n",
    " 6 & 7  & 8 \\\\\n",
    "\\end{array}$\n",
    "\n",
    "Der Aktionsraum ist also $A = \\{0, 1, 2, 3, 4, 5, 6, 7, 8\\}$\n",
    "\n",
    "\n",
    "Je nach aktuellem Feld sind aber nicht immer alle diese Aktionen möglich, da nicht auf belegte Felder gesetzt werden darf."
   ]
  },
  {
   "cell_type": "markdown",
   "metadata": {},
   "source": [
    "# Aufgabe 2"
   ]
  },
  {
   "cell_type": "markdown",
   "metadata": {},
   "source": [
    "## Käsekästchen"
   ]
  },
  {
   "cell_type": "code",
   "execution_count": null,
   "metadata": {},
   "outputs": [],
   "source": []
  },
  {
   "cell_type": "markdown",
   "metadata": {},
   "source": [
    "## Vier gewinnt"
   ]
  },
  {
   "cell_type": "code",
   "execution_count": null,
   "metadata": {},
   "outputs": [],
   "source": []
  },
  {
   "cell_type": "markdown",
   "metadata": {},
   "source": [
    "## Tic Tac Toe"
   ]
  },
  {
   "cell_type": "code",
   "execution_count": 4,
   "metadata": {},
   "outputs": [],
   "source": [
    "def get_ttt_actions(field):\n",
    "    \"\"\"\n",
    "    inputs:\n",
    "        field - (list) - list of 9 ints in (0,1,2)\n",
    "            0 is an empty field\n",
    "    returns:\n",
    "        (list) - list of possible actions as list indices\n",
    "    \"\"\"\n",
    "    if not 0 in field:\n",
    "        return []\n",
    "    actions = []\n",
    "    for i, elem in enumerate(field):\n",
    "        if elem == 0:\n",
    "            actions.append(i)\n",
    "    return actions"
   ]
  },
  {
   "cell_type": "code",
   "execution_count": 9,
   "metadata": {
    "tags": []
   },
   "outputs": [
    {
     "output_type": "stream",
     "name": "stdout",
     "text": "-------------\n|   | x | o |\n-------------\n|   | o | x |\n-------------\n| x | o |   |\n-------------\npossible actions are: 0, 3, 8\n"
    }
   ],
   "source": [
    "def print_field(field):\n",
    "    \"\"\"\n",
    "    inputs:\n",
    "        field - (list) - list of 9 ints in (0,1,2)\n",
    "            0 is an empty field\n",
    "    \"\"\"\n",
    "    print_list = convert_field(field)\n",
    "    for i in range(3):\n",
    "        print(\"-\"*13)\n",
    "        print(\"| {} | {} | {} |\".format( *print_list[3*i:3*i+3] ))\n",
    "    print(\"-\"*13)\n",
    "\n",
    "def convert_field(field):\n",
    "    \"\"\"\n",
    "    inputs:\n",
    "        field - (list) - list of 9 ints in (0,1,2)\n",
    "            0 is an empty field\n",
    "    returns:\n",
    "        (list) - list of \"o\", \"x\" and \" \" representing the field\n",
    "    \"\"\"\n",
    "    print_list = []\n",
    "    for elem in field:\n",
    "        if elem == 1:\n",
    "            print_list.append(\"o\")\n",
    "        elif elem == 2:\n",
    "            print_list.append(\"x\")\n",
    "        else:\n",
    "            print_list.append(\" \")\n",
    "    return print_list\n",
    "\n",
    "field = [0,2,1,0,1,2,2,1,0]\n",
    "print_field(field)\n",
    "print(\"possible actions are:\", str(get_ttt_actions(field))[1:-1] )"
   ]
  },
  {
   "cell_type": "code",
   "execution_count": null,
   "metadata": {},
   "outputs": [],
   "source": []
  }
 ],
 "metadata": {
  "kernelspec": {
   "display_name": "Python 3",
   "language": "python",
   "name": "python3"
  },
  "language_info": {
   "codemirror_mode": {
    "name": "ipython",
    "version": 3
   },
   "file_extension": ".py",
   "mimetype": "text/x-python",
   "name": "python",
   "nbconvert_exporter": "python",
   "pygments_lexer": "ipython3",
   "version": "3.7.0-final"
  }
 },
 "nbformat": 4,
 "nbformat_minor": 2
}