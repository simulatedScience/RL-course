{
 "cells": [
  {
   "cell_type": "markdown",
   "metadata": {},
   "source": [
    "# Aufgabe 1"
   ]
  },
  {
   "cell_type": "markdown",
   "metadata": {},
   "source": [
    "## Käsekästchen"
   ]
  },
  {
   "cell_type": "markdown",
   "metadata": {},
   "source": []
  },
  {
   "cell_type": "markdown",
   "metadata": {},
   "source": [
    "## Vier gewinnt"
   ]
  },
  {
   "cell_type": "markdown",
   "metadata": {},
   "source": []
  },
  {
   "cell_type": "markdown",
   "metadata": {},
   "source": [
    "## Tic Tac Toe"
   ]
  },
  {
   "cell_type": "markdown",
   "metadata": {},
   "source": [
    "### Zustandsraum:\n",
    "es gibt maximal $3^9$ Zustände: jedes deer 9 Felder kann 3 Zustände haben: leer, kreis oder kreuz\n",
    "\n",
    "Diese Zustände können als Tupel mit 9 Einträgen aus $\\{0,1,2\\}$ dargestellt werden.\n",
    "\n",
    "Da die Spieler abwechselnd Züge machen sind aber auch hier nicht alle Zustände möglich. Genauer gesagt darf sich die Anzahl an 2en und 1en maximal um 1 unterscheiden. Legt man das Zeichen des Startspielers fest, z.B: 1, so kann man genauer sagen:\n",
    "\n",
    "Die Anzahl an 1en muss größer oder gleich der Anzahl an 2en sein und darf sich maximal um 1 unterscheiden.\n",
    "\n",
    "### Aktionsraum:\n",
    "jede Aktion ist eine natürliche Zahl von 0 bis 8 je nach aktuellem Feld sind aber nicht immer alle diese Aktionen möglich, da nicht auf belegte Felder gesetzt werden darf."
   ]
  },
  {
   "cell_type": "markdown",
   "metadata": {},
   "source": [
    "# Aufgabe 2"
   ]
  },
  {
   "cell_type": "markdown",
   "metadata": {},
   "source": [
    "## Käsekästchen"
   ]
  },
  {
   "cell_type": "code",
   "execution_count": null,
   "metadata": {},
   "outputs": [],
   "source": []
  },
  {
   "cell_type": "markdown",
   "metadata": {},
   "source": [
    "## Vier gewinnt"
   ]
  },
  {
   "cell_type": "code",
   "execution_count": null,
   "metadata": {},
   "outputs": [],
   "source": []
  },
  {
   "cell_type": "markdown",
   "metadata": {},
   "source": [
    "## Tic Tac Toe"
   ]
  },
  {
   "cell_type": "code",
   "execution_count": 1,
   "metadata": {},
   "outputs": [],
   "source": [
    "def ttt(field):\n",
    "    \"\"\"\n",
    "    inputs:\n",
    "        field - (list) - list of 9 ints in (0,1,2)\n",
    "            0 is an empty field\n",
    "    returns:\n",
    "        (list) - list of possible actions as list indices\n",
    "    \"\"\"\n",
    "    if not 0 in field:\n",
    "        return []\n",
    "    actions = []\n",
    "    for i, elem in enumerate(field):\n",
    "        if elem == 0:\n",
    "            actions.append(i)\n",
    "    return actions"
   ]
  },
  {
   "cell_type": "code",
   "execution_count": 10,
   "metadata": {
    "tags": []
   },
   "outputs": [
    {
     "output_type": "stream",
     "name": "stdout",
     "text": "-------------\n|   | x | o |\n-------------\n|   | o | x |\n-------------\n| x | o |   |\n-------------\n"
    }
   ],
   "source": [
    "import pygame\n",
    "\n",
    "def show_ttt(field):\n",
    "    \"\"\"\n",
    "    inputs:\n",
    "        field - (list) - list of 9 ints in (0,1,2)\n",
    "            0 is an empty field\n",
    "    \"\"\"\n",
    "    print_list = convert_field(field)\n",
    "    for i in range(3):\n",
    "        print(\"-\"*13)\n",
    "        print(\"| {} | {} | {} |\".format( *print_list[3*i:3*i+3] ))\n",
    "    print(\"-\"*13)\n",
    "\n",
    "def convert_field(field):\n",
    "    \"\"\"\n",
    "    inputs:\n",
    "        field - (list) - list of 9 ints in (0,1,2)\n",
    "            0 is an empty field\n",
    "    returns:\n",
    "        (list) - list of \"o\", \"x\" and \" \" representing the field\n",
    "    \"\"\"\n",
    "    print_list = []\n",
    "    for elem in field:\n",
    "        if elem == 1:\n",
    "            print_list.append(\"o\")\n",
    "        elif elem == 2:\n",
    "            print_list.append(\"x\")\n",
    "        else:\n",
    "            print_list.append(\" \")\n",
    "    return print_list\n",
    "\n",
    "\n",
    "show_ttt([0,2,1,0,1,2,2,1,0])"
   ]
  },
  {
   "cell_type": "code",
   "execution_count": null,
   "metadata": {},
   "outputs": [],
   "source": []
  }
 ],
 "metadata": {
  "kernelspec": {
   "display_name": "Python 3",
   "language": "python",
   "name": "python3"
  },
  "language_info": {
   "codemirror_mode": {
    "name": "ipython",
    "version": 3
   },
   "file_extension": ".py",
   "mimetype": "text/x-python",
   "name": "python",
   "nbconvert_exporter": "python",
   "pygments_lexer": "ipython3",
   "version": "3.7.0-final"
  }
 },
 "nbformat": 4,
 "nbformat_minor": 2
}