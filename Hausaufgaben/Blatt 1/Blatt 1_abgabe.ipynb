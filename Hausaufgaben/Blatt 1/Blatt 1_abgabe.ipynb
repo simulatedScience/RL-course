{
 "cells": [
  {
   "cell_type": "markdown",
   "metadata": {},
   "source": [
    "# Aufgabe 1"
   ]
  },
  {
   "cell_type": "markdown",
   "metadata": {},
   "source": [
    "## Käsekästchen"
   ]
  },
  {
   "cell_type": "markdown",
   "metadata": {},
   "source": [
    "#### Zustandsraum\n",
    "Das 6×4-Raster für Käsekästchen muss zerlegt werden in Kanten zwischen den Feldern und die Felder selbst. Eine Kante kann gezogen oder nicht gezogen sein, ein Feld kann leer oder von einem der beiden Spieler gewonnen sein.\n",
    "\n",
    "Die Felder F lassen sich wie üblich als zweidimensionale Koordinaten darstellen.\n",
    "Die Kanten K lassen sich ebenfalls mit zweidimensionalen Koordinaten nach diesem Schema darstellen:\n",
    "```\n",
    " 0011223344556\n",
    "0 - - - - - -\n",
    "1| | | | | | |\n",
    "2 - - - - - -\n",
    "3| | | | | | |\n",
    "4 - - - - - -\n",
    "5| | | | | | |\n",
    "6 - - - - - -\n",
    "7| | | | | | |\n",
    "8 - - - - - -\n",
    "```\n",
    "\n",
    "Zwischen K und F besteht eine Abhängigkeit: Wenn 1 oder 2 Felder von gezogenen Kanten eingeschlossen sind, bei 2 Feldern ohne Trennung voneinander, so müssen diese Felder genau einem der beiden Spieler zugeordnet sein. Alle anderen Felder müssen leer sein.\n",
    "\n",
    "#### Aktionsraum\n",
    "Es gibt eine Aktion genau für jede Kante im Feld.\n",
    "\n",
    "### Vier gewinnt\n",
    "#### Zustandsraum\n",
    "#### Aktionsraum\n",
    "\n",
    "### Tic Tac Toe\n",
    "#### Zustandsraum\n",
    "Das Spiel hat 3×3 Felder, von denen jedes in einem von 3 Zuständen sein kann: leer, besetzt von Spieler 1 und besetzt von Spieler 2. Hierbei muss die Anzahl der von Spieler 1 besetzten Felder gleich oder um 1 größer sein als die Anzahl der von Spieler 2 besetzten Felder.\n",
    "Weiterhin kann maximal eine Gerade durch das Feld (wenn wir das Spielfeld als F_3^2 betrachten) vollständig von einem Spieler besetzt sein.\n",
    "#### Aktionsraum\n",
    "Der Aktionsraum beinhaltet eine Aktion für jedes Feld."
   ]
  },
  {
   "cell_type": "markdown",
   "metadata": {},
   "source": [
    "## Vier gewinnt"
   ]
  },
  {
   "cell_type": "markdown",
   "metadata": {},
   "source": [
    "Wir gehen von einem 7x6 großen Spielfeld aus, welches durch eine Matrix representiert werden kann.\n",
    "\n",
    "### Zustandsraum\n",
    "Die Einträge dieser Matrix sind dann 0 (leer), 1 (Spieler 1), 2 (Spieler 2). \n",
    "\n",
    "Also ist der Zustandsraum $S$ Teilmenge von $\\mathcal{M}_{7\\times6}(\\mathbb{F}_3)$\n",
    "\n",
    "Auch hier gibt es wieder einige einschränkende Regeln:\n",
    "- Es dürfen maximal ein Mal vier ununterbrochene 1en oder 2en in einer Reihe, Spalte oder Diagonale vorkommen, da das Spiel damit endet.\n",
    "- Mindestens eine dieser Zahlen darf nur 0en darüber haben\n",
    "- Alle 0en in der Matrix dürfen keine 1en oder 2en darüber haben.\n",
    "\n",
    "ein Zustand könnte also beispielsweise wie folgt aussehen:\n",
    "\n",
    "$$\n",
    "s = \\left(\\begin{array}{ccccccc}\n",
    "0 & 0 & 0 & 0 & 0 & 0 & 0 \\\\\n",
    "0 & 0 & 0 & 0 & 0 & 0 & 0 \\\\\n",
    "0 & 2 & 0 & 0 & 0 & 0 & 0 \\\\\n",
    "0 & 1 & 1 & 0 & 0 & 0 & 0 \\\\\n",
    "0 & 1 & 2 & 2 & 1 & 0 & 0 \\\\\n",
    "2 & 1 & 1 & 1 & 2 & 0 & 0 \\\\\n",
    "\\end{array}\\right)\n",
    "$$"
   ]
  },
  {
   "cell_type": "markdown",
   "metadata": {},
   "source": [
    "### Aktionsraum\n",
    "\n",
    "Alle möglichen Aktionen können durch einen Spaltenindex $\\{0, ..., 6\\}$ ausgedrückt werden. Der Aktionsraum ist also allgemein $A = \\{0, 1, 2, 3, 4, 5, 6\\}$.\n",
    "\n",
    "Während dem Spiel können Aktionen unmöglich werden, wenn die entsprechende Spalte schon voll ist."
   ]
  },
  {
   "cell_type": "markdown",
   "metadata": {},
   "source": [
    "## Tic Tac Toe"
   ]
  },
  {
   "cell_type": "markdown",
   "metadata": {},
   "source": [
    "### Zustandsraum:\n",
    "es gibt maximal $3^9$ Zustände: jedes der 9 Felder kann 3 Zustände haben: leer, kreis oder kreuz\n",
    "\n",
    "Diese Zustände können als Tupel mit 9 Einträgen aus $\\{0,1,2\\}$ dargestellt werden.\n",
    "Die Menge aller möglichen Zustände ist also definitiv eine Teilmenge von $\\mathbb{F}_3 {} ^9$.\n",
    "\n",
    "- Da das Spiel endet sobald mindestens eine Reihe, Spalte oder Diagonale nur 1en oder 2en enthält, sind viele dieser Zustände nicht möglich (alle mit mehr Folgen gleicher Zahlen ungleich 0)\n",
    "\n",
    "- Außerdem müssen die Spieler abwechselnd Symbole setzen. Das heißt die Anzahl an 2en und 1en darf sich maximal um 1 unterscheiden. Legt man das Zeichen des Startspielers fest, z.B: 1, so kann man genauer sagen:\n",
    "\n",
    "    Die Anzahl an 1en muss größer oder gleich der Anzahl an 2en sein und darf sich maximal um 1 unterscheiden.\n",
    "\n",
    "Ein möglicher Zustand wäre also z.B: $s = (0,1,2,0,2,2,1,0,1)$, welcher das Spielfeld \n",
    "$\\begin{array}{c|c|c}\n",
    "  & x & o \\\\\n",
    "  \\hline\n",
    "  & o & o \\\\\n",
    "  \\hline\n",
    "x &   & x \\\\\n",
    "\\end{array}$\n",
    "darstellt."
   ]
  },
  {
   "cell_type": "markdown",
   "metadata": {},
   "source": [
    "### Aktionsraum:\n",
    "Jede Aktion kann als einzelne natürliche Zahl von 0 bis 8 aufgefasst werden.\n",
    "\n",
    "Diese Zahlen entsprechen den Feldern im 3x3 Raster wie folgt: $\\begin{array}{c|c|c}\n",
    " 0 & 1 & 2 \\\\\n",
    "  \\hline\n",
    " 3 & 4 & 5 \\\\\n",
    "  \\hline\n",
    " 6 & 7  & 8 \\\\\n",
    "\\end{array}$\n",
    "\n",
    "Der Aktionsraum ist also $A = \\{0, 1, 2, 3, 4, 5, 6, 7, 8\\}$\n",
    "\n",
    "\n",
    "Je nach aktuellem Feld sind aber nicht immer alle diese Aktionen möglich, da nicht auf belegte Felder gesetzt werden darf."
   ]
  },
  {
   "cell_type": "markdown",
   "metadata": {},
   "source": [
    "# Aufgabe 2"
   ]
  },
  {
   "cell_type": "markdown",
   "metadata": {},
   "source": [
    "## Käsekästchen"
   ]
  },
  {
   "cell_type": "markdown",
   "metadata": {},
   "source": [
    "#### Zustandsraum\n",
    "Platzsparend lässt sich der Zustandsraum darstellen als 3 Arrays.\n",
    "Der erste Array enthält alle horizontalen Kanten, hat also Dimension 6×5=30,\n",
    "der zweite Array enthält die vertikalen Kanten, hat also Dimension 7×4=28\n",
    "und der dritte Array speichert die erzielten Punkte, muss also Dimension 6×4=24 haben.\n",
    "\n",
    "Die Einträge im ersten und zweiten Array sind 0, wenn die entsprechende Kante noch nicht gezeichnet wurde und 1, wenn sie gezeichnet wurde.\n",
    "Die Einträge im dritten Array sind 0, wenn auf dem entsprechenden Feld noch kein Punkt erzeugt wurde, 1 wenn der erste Spieler einen Punkt auf diesem Feld erzielt hat und -1 wenn der zweite Spieler einen Punkt auf diesem Feld erzielt hat."
   ]
  },
  {
   "cell_type": "code",
   "execution_count": 2,
   "metadata": {},
   "outputs": [],
   "source": [
    "def freshDotsNLines ():\n",
    "    return ([0]*30, [0]*28, [0]*24)"
   ]
  },
  {
   "cell_type": "markdown",
   "metadata": {},
   "source": [
    "#### Aktionsraum\n",
    "Mögliche Aktionen sind das Zeichnen einer horizontalen oder vertikalen Kante, die nicht bereits gezeichnet wurde. Eine Aktion wird dann dargestellt als ein Tupel. Die erste Komponente ist 0 für eine horizontale und 1 für eine vertikale Kante, die zweite Komponente ist der Index in den zugehörigen Array von Kanten. Kanten, die bereits gezeichnet wurden, müssen ausgefiltert werden.\n",
    "\n",
    "Sonst gibt es keine Einschränkungen der möglichen Aktionen."
   ]
  },
  {
   "cell_type": "code",
   "execution_count": 3,
   "metadata": {},
   "outputs": [],
   "source": [
    "def dotsNLinesActions (horizontals, verticals):\n",
    "    actions = []\n",
    "    for i in range(30):\n",
    "        if horizontals[i] != 1:\n",
    "            actions.append([(0,i)])\n",
    "    for i in range(28):\n",
    "        if verticals[i] != 1:\n",
    "            actions.append([(1,i)])\n",
    "    return actions"
   ]
  },
  {
   "cell_type": "markdown",
   "metadata": {},
   "source": [
    "## Vier gewinnt"
   ]
  },
  {
   "cell_type": "markdown",
   "metadata": {},
   "source": [
    "Wir können einfach die Menge an möglichen Aktionen berechnen indem geprüft wird ob eine Spalte voll ist.\n",
    "\n",
    "Da die Spielsteine immer spaltenweise gesetzt werden wird das Spielfeld auch Spaltenweise und nicht, wie sonst üblich, zeilenweise gespeichert.\n",
    "\n",
    "Dies erlaubt die Vereinfachung Listenlängen zu nutzen um zu prüfen wie viele Steine in einer Spalte sind. Außerdem muss man so leere Felder nicht direkt speichern.\n",
    "\n",
    "Zum einfacheren Prüfen ob jemand gewonnen hat werden dann strings statt Listen verwendet. Dabei werden auch die oben beschriebenen Zahlen 0,1,2 durch die Zeichen `' '`, `'o'`, `'x'` ersetzt."
   ]
  },
  {
   "cell_type": "code",
   "execution_count": 37,
   "metadata": {},
   "outputs": [],
   "source": [
    "def get_actions(field):\n",
    "    \"\"\"\n",
    "    inputs:\n",
    "        field - (list) of 7 strings - maximum length 6, elements are characters 'x' and 'o'\n",
    "    returns:\n",
    "        (list) - column indeces of all possible moves\n",
    "    \"\"\"\n",
    "    actions = []\n",
    "    if not game_ended(field):\n",
    "        for i, column in enumerate(field):\n",
    "            if len(column) < 6:\n",
    "                actions.append(i)\n",
    "    return actions\n",
    "\n",
    "\n",
    "def game_ended(field):\n",
    "    \"\"\"\n",
    "    check whether or not someone has won on the current field\n",
    "    inputs:\n",
    "        field - (list) of 7 strings - maximum length 6, elements are characters 'x' and 'o'\n",
    "    returns:\n",
    "        (bool)\n",
    "    \"\"\"\n",
    "    field = extend_field(field)\n",
    "    rows = [\"\".join([field[c][r] for c in range(7)]).strip(\" \") for r in range(6)]\n",
    "    columns = field\n",
    "    diagonals = get_diagonals(field) + get_diagonals(list(reversed(field)))\n",
    "    \n",
    "    for line in rows+columns+diagonals:\n",
    "        if len(line) < 4:\n",
    "            continue\n",
    "        if \"xxxx\" in line or \"oooo\" in line:\n",
    "            return True\n",
    "    return False\n",
    "    \n",
    "    \n",
    "def get_diagonals(field):\n",
    "    \"\"\"\n",
    "    return strings containing all elements on the y=-x diagonals\n",
    "    inputs:\n",
    "        field - (list) of 7 strings - strings must have length 6 and characters ' ','x' or 'o'\n",
    "    \"\"\"\n",
    "    diagonals = []\n",
    "    for x0, y0 in [(0,3), (0,4), (0,5), (1,5), (2,5), (3,5)]:\n",
    "        diagonal =  \"\"\n",
    "        while True:\n",
    "            try:\n",
    "                diagonal += field[x0][y0]\n",
    "            except IndexError:\n",
    "                break\n",
    "            x0 += 1\n",
    "            y0 -= 1\n",
    "        diagonals.append(diagonal.strip(\" \"))\n",
    "    return diagonals\n",
    "    \n",
    "\n",
    "def extend_field(field):\n",
    "    \"\"\"\n",
    "    extend strings in the field to the maximum length of 6 by adding spaces\n",
    "    returns:\n",
    "        (list) - new field\n",
    "    \"\"\"\n",
    "    new_field = []\n",
    "    for column in field:\n",
    "        new_field.append(column + \" \"*(6-len(column)))\n",
    "    return new_field"
   ]
  },
  {
   "cell_type": "markdown",
   "metadata": {},
   "source": [
    "In `game_ended` müssen auch die Diagonalen geprüft werden. Dafür wird von den im Bild gezeigten Randpunkten aus jeweils jedes Element rechts darunter der Diagonale hinzugefügt, bis das Feld endet.\n",
    "\n",
    "Durch erneutes Ausführen mit umgekehrter Spaltenreihenfolge werden die anderen Diagonalen getroffen.\n",
    "\n",
    "Hier ist es wichtig das vollständige Feld zu betrachten und nicht nur die gekürzten Listen. Andernfalls könnten gewinnbringende Diagonalen übersehen werden. Dies wird durch `extend_field` umgesetzt"
   ]
  },
  {
   "attachments": {},
   "cell_type": "markdown",
   "metadata": {},
   "source": [
    "<img src=\"vier_gewinnt.JPG\" alt=\"Drawing\" style=\"width: 400px;\"/>"
   ]
  },
  {
   "cell_type": "markdown",
   "metadata": {},
   "source": [
    "zum einfacheren Testen wird noch eine Darstellungs-Funktion implementiert:"
   ]
  },
  {
   "cell_type": "code",
   "execution_count": 60,
   "metadata": {},
   "outputs": [],
   "source": [
    "def print_field(field):\n",
    "    \"\"\"\n",
    "    print field pretty\n",
    "    inputs:\n",
    "        field - (list) of 7 strings - maximum length of strings: 6\n",
    "    \"\"\"\n",
    "    field = extend_field(field)\n",
    "    print(9*\"-\")\n",
    "    for row in range(5,-1,-1):\n",
    "        print(\"|{}{}{}{}{}{}{}|\".format(*[col[row] for col in field]))\n",
    "    print(9*\"-\")"
   ]
  },
  {
   "cell_type": "markdown",
   "metadata": {},
   "source": [
    "Jetzt haben wir also eine Funktion `get_actions()`, die alle möglichen Aktionen in Abhängigkeit des momentanen Zustands ausgibt und berücksichtigt, wenn ein Spiel schon vorbei ist oder Spalten voll sind. Damit könnte genau wie unten auch eine Methode zum Generieren aller Zustände implementiert werden."
   ]
  },
  {
   "cell_type": "markdown",
   "metadata": {},
   "source": [
    "Anhand der folgenden zwei Beispiele wird einige FUnktionalität getestet. Das zweite kann sehr einfach angepasst werden um verschiedene Scenarien für die Gewinnposition zu testen."
   ]
  },
  {
   "cell_type": "code",
   "execution_count": 52,
   "metadata": {},
   "outputs": [
    {
     "name": "stdout",
     "output_type": "stream",
     "text": [
      "---------\n",
      "|  o    |\n",
      "|  x    |\n",
      "|  o    |\n",
      "|  o    |\n",
      "|  ox   |\n",
      "| oxox x|\n",
      "---------\n",
      "posiible actions: [0, 1, 3, 4, 5, 6]\n"
     ]
    }
   ],
   "source": [
    "field = [\"\", \"o\", \"xoooxo\", \"ox\", \"x\", \"\", \"x\"]\n",
    "print_field(field)\n",
    "print(\"posiible actions:\", get_actions(field))"
   ]
  },
  {
   "cell_type": "code",
   "execution_count": 59,
   "metadata": {},
   "outputs": [
    {
     "name": "stdout",
     "output_type": "stream",
     "text": [
      "---------\n",
      "|       |\n",
      "|       |\n",
      "| x     |\n",
      "| ox    |\n",
      "|ooox oo|\n",
      "|xoxoxxx|\n",
      "---------\n",
      "posiible actions: []\n"
     ]
    }
   ],
   "source": [
    "field = [\"xo\", \"ooox\", \"xox\", \"ox\", \"x\", \"xo\", \"xo\"] # diagonal\n",
    "# field = [\"xo\", \"oooo\", \"xox\", \"ox\", \"x\", \"xx\", \"xo\"] # vertical\n",
    "# field = [\"xo\", \"ooox\", \"xxo\", \"xo\", \"x\", \"xo\", \"xo\"] # horizontal\n",
    "print_field(field)\n",
    "print(\"posiible actions:\", get_actions(field))"
   ]
  },
  {
   "cell_type": "markdown",
   "metadata": {},
   "source": [
    "## Tic Tac Toe"
   ]
  },
  {
   "cell_type": "markdown",
   "metadata": {},
   "source": [
    "Zuerst definieren wir zwei Methoden um einen Zustand besser lesbar ausgeben zu können:"
   ]
  },
  {
   "cell_type": "code",
   "execution_count": 3,
   "metadata": {
    "tags": []
   },
   "outputs": [],
   "source": [
    "def print_field(field):\n",
    "    \"\"\"\n",
    "    print the given field\n",
    "    inputs:\n",
    "        field - (list) - list of 9 ints in (0,1,2)\n",
    "            0 is an empty field\n",
    "    \"\"\"\n",
    "    print_list = convert_field(field)\n",
    "    for i in range(3):\n",
    "        print(\"-\"*13)\n",
    "        print(\"| {} | {} | {} |\".format( *print_list[3*i:3*i+3] ))\n",
    "    print(\"-\"*13)\n",
    "\n",
    "def convert_field(field):\n",
    "    \"\"\"\n",
    "    prepare field for printing by replacing characters\n",
    "    inputs:\n",
    "        field - (list) - list of 9 ints in (0,1,2)\n",
    "            0 is an empty field\n",
    "    returns:\n",
    "        (list) - list of \"o\", \"x\" and \" \" representing the field\n",
    "    \"\"\"\n",
    "    print_list = []\n",
    "    for elem in field:\n",
    "        if elem == 1:\n",
    "            print_list.append(\"o\")\n",
    "        elif elem == 2:\n",
    "            print_list.append(\"x\")\n",
    "        else:\n",
    "            print_list.append(\" \")\n",
    "    return print_list"
   ]
  },
  {
   "cell_type": "markdown",
   "metadata": {},
   "source": [
    "Dann brauchen wir zwei Funktionen um für ein gegebenes Feld alle möglichen Züge auszugeben. Hat beim gegebenen Feld bereits ein Spieler gewonnen oder ist das Feld voll, so ist keine weitere Aktion möglich. Sonst kann in jedes freie Feld (d.h. Listeneintrag 0) gesetzt werden."
   ]
  },
  {
   "cell_type": "code",
   "execution_count": 4,
   "metadata": {},
   "outputs": [],
   "source": [
    "from math import sqrt\n",
    "def game_ended(field):\n",
    "    \"\"\"\n",
    "    checks whether or not a ttt-game has ended\n",
    "    inputs:\n",
    "        field - (list) - list with integer entries 0, 1 and 2\n",
    "    ouputs:\n",
    "        (bool) - \n",
    "    \"\"\"\n",
    "    n = int(sqrt(len(field)))\n",
    "    rows = [field[n*i:n*i+n] for i in range(n)] #get all rows of the field\n",
    "    columns = [field[i::n] for i in range(n)]   #get all columns of the field\n",
    "    diagonals = [field[::n+1], field[n-1:n**2-2:n-1]] #get both diagonals of the field\n",
    "    \n",
    "    win_lists = rows + columns + diagonals\n",
    "\n",
    "    if [1]*n in win_lists or [2]*n in win_lists:\n",
    "        return True\n",
    "    return False\n",
    "\n",
    "\n",
    "def get_ttt_actions(field):\n",
    "    \"\"\"\n",
    "    calculate all possible actions for the given field\n",
    "    inputs:\n",
    "        field - (list) - list of 9 ints in (0,1,2)\n",
    "            0 is an empty field\n",
    "    returns:\n",
    "        (list) - list of possible actions as list indices\n",
    "    \"\"\"\n",
    "    actions = []\n",
    "    if 0 in field and not game_ended(field):\n",
    "        for i, elem in enumerate(field):\n",
    "            if elem == 0:\n",
    "                actions.append(i)\n",
    "    return actions"
   ]
  },
  {
   "cell_type": "markdown",
   "metadata": {},
   "source": [
    "Dies können wir nun an einem einfachen Beispiel testen:"
   ]
  },
  {
   "cell_type": "code",
   "execution_count": 5,
   "metadata": {
    "tags": []
   },
   "outputs": [
    {
     "output_type": "stream",
     "name": "stdout",
     "text": "-------------\n|   | x | o |\n-------------\n|   | o | x |\n-------------\n| x | o |   |\n-------------\npossible actions are: 0, 3, 8\n"
    }
   ],
   "source": [
    "field = [0,2,1,0,1,2,2,1,0]\n",
    "print_field(field)\n",
    "print(\"possible actions are:\", str(get_ttt_actions(field))[1:-1] )"
   ]
  },
  {
   "cell_type": "markdown",
   "metadata": {},
   "source": [
    "Mit dieser Vorbereitung wollen wir nun alle möglichen Zustände generieren.\n",
    "\n",
    "Dazu gehen wir im Folgenden davon aus, dass der startende Spieler immer Zeichen 1 hat (oben \"o\").\n",
    "\n",
    "Durch Zählen der Zahlen 1 und 2 kann immer das Zeichen des nächsten Spielers ermittelt werden. Kommen beide Zahlen gleich oft vor, so ändert sich nichts am Startwert `1` von `active_color`. Kommt das Zeichen `1` öfter vor, so ergibt sich `active_color = 2`.\n",
    "\n",
    "Dann wird für alle verfügbaren Aktionen der neue Zustand generiert und als Tupel in `states` abgespeichert. Durch Verwendung einer Menge vermeiden wir doppeltes Zählen gleicher Zustände. Ist ein Zustand gespeichert werden rekursiv alle möglichen Folgezustände berechnet und das Ergebnis mit der aktuellen Menge vereinigt (in python `|`).\n",
    "\n",
    "Die Rekursion endet, wenn bei einem Feld keine Züge mehr mööglich sind."
   ]
  },
  {
   "cell_type": "code",
   "execution_count": 6,
   "metadata": {},
   "outputs": [],
   "source": [
    "def get_state_space(field = [0 for _ in range(9)], states = set()):\n",
    "    \"\"\"\n",
    "    return all possible states of a tic-tac-toe game\n",
    "    inputs: \n",
    "        None\n",
    "    returns:\n",
    "        (list) of tuples - list of all possible states as tuples of integers (0,1,2)\n",
    "    \"\"\"\n",
    "    active_color = 1\n",
    "    for elem in field: # calculate color of active player\n",
    "        if elem == 1:\n",
    "            active_color += 1\n",
    "        elif elem == 2:\n",
    "            active_color -= 1\n",
    "    for move_index in get_ttt_actions(field): # loop over every possible move\n",
    "        # if someone has won, this list of moves is empty, therefor ending the recursion\n",
    "        new_field = [elem for elem in field] # copy the field\n",
    "        new_field[move_index] = active_color # make the current move\n",
    "        states.add(tuple(new_field))             # save the current state\n",
    "        states |= get_state_space(field=new_field, states=states) #add further states to the set\n",
    "    return states"
   ]
  },
  {
   "cell_type": "code",
   "execution_count": 7,
   "metadata": {
    "tags": []
   },
   "outputs": [
    {
     "output_type": "stream",
     "name": "stdout",
     "text": "5477\n"
    }
   ],
   "source": [
    "S = get_state_space()\n",
    "print(len(S))"
   ]
  },
  {
   "cell_type": "markdown",
   "metadata": {},
   "source": [
    "Es gibt also 5477 mögliche Zustände. Dies beinhaltet alle Zustände, die durch Rotationen, Spiegelungen oder durch Vertauschen beider Symbole ineinander überführt werden können, aber keine exakten Dopplungen.\n",
    "\n",
    "Dies sind deutlich weniger als die oben abgeschätzten $3^9 = 19683$ Zustände. Die Spielregeln stellen also eine sehr starke Einschränkung dar."
   ]
  },
  {
   "cell_type": "code",
   "execution_count": 8,
   "metadata": {
    "tags": []
   },
   "outputs": [
    {
     "output_type": "stream",
     "name": "stdout",
     "text": "-------------\n| o | x |   |\n-------------\n| x | x | o |\n-------------\n| o |   | o |\n-------------\npossible actions: [2, 7]\n\n-------------\n| o | x |   |\n-------------\n| x | x |   |\n-------------\n| o | o |   |\n-------------\npossible actions: [2, 5, 8]\n\n-------------\n| o | o | x |\n-------------\n| x | x | o |\n-------------\n|   | x | o |\n-------------\npossible actions: [6]\n\n"
    }
   ],
   "source": [
    "# print a few example states\n",
    "for field in list(S)[::2000]:\n",
    "    print_field(field)\n",
    "    print(\"possible actions:\", get_ttt_actions(field))\n",
    "    print()"
   ]
  }
 ],
 "metadata": {
  "kernelspec": {
   "display_name": "Python 3",
   "language": "python",
   "name": "python3"
  },
  "language_info": {
   "codemirror_mode": {
    "name": "ipython",
    "version": 3
   },
   "file_extension": ".py",
   "mimetype": "text/x-python",
   "name": "python",
   "nbconvert_exporter": "python",
   "pygments_lexer": "ipython3",
   "version": "3.7.0-final"
  }
 },
 "nbformat": 4,
 "nbformat_minor": 2
}