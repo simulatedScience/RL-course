{
 "metadata": {
  "language_info": {
   "codemirror_mode": {
    "name": "ipython",
    "version": 3
   },
   "file_extension": ".py",
   "mimetype": "text/x-python",
   "name": "python",
   "nbconvert_exporter": "python",
   "pygments_lexer": "ipython3",
   "version": "3.7.0-final"
  },
  "orig_nbformat": 2,
  "kernelspec": {
   "name": "python37064bit0abb7b7769c2407694c8bddfdec1999b",
   "display_name": "Python 3.7.0 64-bit"
  }
 },
 "nbformat": 4,
 "nbformat_minor": 2,
 "cells": [
  {
   "cell_type": "markdown",
   "metadata": {},
   "source": [
    "Die Datei `Q_table.txt` muss im gleichen Ordner wie diese hier liegen, damit die Funktion ohne weitere Änderungen funktioniert."
   ]
  },
  {
   "cell_type": "code",
   "execution_count": 1,
   "metadata": {},
   "outputs": [],
   "source": [
    "def import_Q_table(filename=\"Q_table.txt\"):\n",
    "    \"\"\"\n",
    "    import Q_table as dictionary:\n",
    "    keys are state-action pairs as a tuple of a tuple (9 integers: 0/1/2) and an integer (0-8)\n",
    "    values are the corresponding Q-values\n",
    "\n",
    "    Example:\n",
    "        Q_table[((0,0,0,0,1,0,0,0,0),2)] -> 0.3\n",
    "    \"\"\"\n",
    "    Q_table = dict()\n",
    "    with open(filename, \"r\") as file:\n",
    "        for line in file.readlines():\n",
    "            if line == \"Q_table = {\\n\" or line == \"}\":\n",
    "                continue\n",
    "            state_action, value = line[:-2].split(\":\")\n",
    "            state = tuple([int(x.strip(\" \")) for x in state_action[2:-5].split(\",\")])\n",
    "            action = int(state_action[-2])\n",
    "            Q_table[(state, action)] = float(value)\n",
    "    return Q_table\n",
    "\n",
    "Q_table = import_Q_table(filename=\"Q_table.txt\")"
   ]
  }
 ]
}