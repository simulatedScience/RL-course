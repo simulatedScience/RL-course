{
 "cells": [
  {
   "cell_type": "markdown",
   "metadata": {},
   "source": [
    "# Aufgabe 1\n",
    "Die Darstellung der Gridworld funktioniert recht gut mit einem dictionary, das als keys die Koordinaten der vorhandenen Positionen beinhaltet und als values entweder eine relle Zahl, die eine konstante Belohnung anzeigt, oder ein dictionary, dass Richtungen auf Bewertungen aufgrund der aktuellen Strategie und vorheriger Bewertungen abbildet."
   ]
  },
  {
   "cell_type": "code",
   "execution_count": 1,
   "metadata": {},
   "outputs": [],
   "source": [
    "def trivial_constant_map (position, value):\n",
    "    \"\"\"Return a dictionary representing one constant value position on the gridworld.\"\"\"\n",
    "    return {position: value}\n",
    "\n",
    "def trivial_open_map (position):\n",
    "    \"\"\"Return a dictionary representing one open position on the gridworld\"\"\"\n",
    "    return {position: {\n",
    "        ( 1, 0): 0,\n",
    "        (-1, 0): 0,\n",
    "        ( 0, 1): 0,\n",
    "        ( 0,-1): 0\n",
    "    }}\n",
    "\n",
    "def add_constant_position (gridworld, position, value):\n",
    "    \"\"\"Add a position with constant value to the gridworld and return the gridworld\"\"\"\n",
    "    gridworld[position] = value\n",
    "    return gridworld\n",
    "\n",
    "def add_open_position (gridworld, position):\n",
    "    \"\"\"Add an open position to the gridworld and return the gridworld.\"\"\"\n",
    "    gridworld[position] = {\n",
    "        ( 1, 0): 0,\n",
    "        (-1, 0): 0,\n",
    "        ( 0, 1): 0,\n",
    "        ( 0,-1): 0\n",
    "    }\n",
    "    return gridworld"
   ]
  },
  {
   "cell_type": "markdown",
   "metadata": {},
   "source": [
    "Es ist sinnvoll, gegeben eine Karte, Position und eine Richtung, die Bewertungen des Nachbars in der gegebenen Richtung zu finden. Es ist dabei nach den Regeln des Spieles auch sinnvoll, die Bewertung der aktuellen Position auszugeben, wenn der entsprechende Nachbar nicht existiert."
   ]
  },
  {
   "cell_type": "code",
   "execution_count": 2,
   "metadata": {},
   "outputs": [],
   "source": [
    "def apply_direction (position, direction):\n",
    "    (x, y) = position\n",
    "    (dx, dy) = direction\n",
    "    return (x+dx, y+dy)\n",
    "\n",
    "def get_neighbor (gridworld, position, direction):\n",
    "    neighbor = gridworld.get(apply_direction(position, direction))\n",
    "    return neighbor or gridworld[position]"
   ]
  },
  {
   "cell_type": "markdown",
   "metadata": {},
   "source": [
    "Für unseren Algorithmus müssen wir für jede Position die beste(n) bekannte(n) Aktion(en) finden."
   ]
  },
  {
   "cell_type": "code",
   "execution_count": null,
   "metadata": {},
   "outputs": [],
   "source": [
    "def best_action (gridworld, position):\n",
    "    field = gridworld[position]\n",
    "    "
   ]
  }
 ],
 "metadata": {
  "kernelspec": {
   "display_name": "Python 3",
   "language": "python",
   "name": "python3"
  },
  "language_info": {
   "codemirror_mode": {
    "name": "ipython",
    "version": 3
   },
   "file_extension": ".py",
   "mimetype": "text/x-python",
   "name": "python",
   "nbconvert_exporter": "python",
   "pygments_lexer": "ipython3",
   "version": "3.8.5"
  }
 },
 "nbformat": 4,
 "nbformat_minor": 4
}
