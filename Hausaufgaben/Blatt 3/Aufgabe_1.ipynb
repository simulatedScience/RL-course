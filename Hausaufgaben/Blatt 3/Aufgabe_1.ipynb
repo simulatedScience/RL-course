{
 "cells": [
  {
   "cell_type": "markdown",
   "metadata": {},
   "source": [
    "# Aufgabe 1\n",
    "Die Darstellung der Gridworld funktioniert recht gut mit einem dictionary, das als keys die Koordinaten der vorhandenen Positionen beinhaltet und als values entweder eine relle Zahl, die eine konstante Belohnung anzeigt, oder ein dictionary, dass Richtungen auf Bewertungen aufgrund der aktuellen Strategie und vorheriger Bewertungen abbildet."
   ]
  },
  {
   "cell_type": "code",
   "execution_count": 1,
   "metadata": {},
   "outputs": [],
   "source": [
    "def trivial_constant_map (position, value):\n",
    "    \"\"\"Return a dictionary representing one constant value position on the gridworld.\"\"\"\n",
    "    return {position: value}\n",
    "\n",
    "def make_open_field ():\n",
    "    \"\"\"Make a standard open (that is, it can be moved through) field.\"\"\"\n",
    "    return {\n",
    "        ( 1, 0): 0,\n",
    "        (-1, 0): 0,\n",
    "        ( 0, 1): 0,\n",
    "        ( 0,-1): 0\n",
    "    }.copy()\n",
    "\n",
    "def trivial_open_map (position):\n",
    "    \"\"\"Return a dictionary representing one open position on the gridworld\"\"\"\n",
    "    return {position: make_open_field()}\n",
    "\n",
    "def add_constant_position (gridworld, position, value):\n",
    "    \"\"\"Add a position with constant value to the gridworld and return the gridworld\"\"\"\n",
    "    gridworld[position] = value\n",
    "    return gridworld\n",
    "\n",
    "def add_open_position (gridworld, position):\n",
    "    \"\"\"Add an open position to the gridworld and return the gridworld.\"\"\"\n",
    "    gridworld[position] = make_open_field()\n",
    "    return gridworld"
   ]
  },
  {
   "cell_type": "markdown",
   "metadata": {},
   "source": [
    "Es ist sinnvoll, gegeben eine Karte, Position und eine Richtung, die Bewertungen des Nachbars in der gegebenen Richtung zu finden. Es ist dabei nach den Regeln des Spieles auch sinnvoll, die Bewertung der aktuellen Position auszugeben, wenn der entsprechende Nachbar nicht existiert."
   ]
  },
  {
   "cell_type": "code",
   "execution_count": 2,
   "metadata": {},
   "outputs": [],
   "source": [
    "def apply_direction (position, direction):\n",
    "    \"\"\"Return position+direction.\"\"\"\n",
    "    (x, y) = position\n",
    "    (dx, dy) = direction\n",
    "    return (x+dx, y+dy)\n",
    "\n",
    "def get_neighbor (gridworld, position, direction):\n",
    "    \"\"\"Return the content of the neighbor of position in gridworld in direction.\n",
    "    Return the content of the position itself if the neighbor is not in gridworld.\"\"\"\n",
    "    neighbor = gridworld.get(apply_direction(position, direction))\n",
    "    return neighbor or gridworld[position]"
   ]
  },
  {
   "cell_type": "markdown",
   "metadata": {},
   "source": [
    "Das Folgende ist um die Strategie tatsächlich zu extrahieren, aber für die Iteration ist diese Funktion nicht nötig."
   ]
  },
  {
   "cell_type": "code",
   "execution_count": 3,
   "metadata": {},
   "outputs": [],
   "source": [
    "def best_action (field):\n",
    "    \"\"\"Return the best action for the given field.\"\"\"\n",
    "    # collect the actions in a variable to return later\n",
    "    actions = []\n",
    "    # keep track of the maximum score found\n",
    "    # in the beginning no maximum score has been found.\n",
    "    max_score = None\n",
    "    # go over all the directions in the current field\n",
    "    for (direction, score) in field.items():\n",
    "        if (not max_score) or (score > max_score):\n",
    "            # if the score is higher than the current one\n",
    "            # (with None interpreted as -inf)\n",
    "            # update the maximum found score\n",
    "            max_score = score\n",
    "            # and replace all the already found actions\n",
    "            # (which have a lower score than the current one)\n",
    "            # with the current action\n",
    "            actions = [direction]\n",
    "        elif score == max_score:\n",
    "            # if the current action has max score, just record it\n",
    "            actions.append(direction)\n",
    "        # if the current action has a score lower than max_score,\n",
    "        # it is of no interest\n",
    "    return actions\n",
    "\n",
    "def extract_strategy (gridworld):\n",
    "    strategy = dict()\n",
    "    for (position, field) in gridworld.items():\n",
    "        if type(field) is dict:\n",
    "            strategy[position] = best_action(field)\n",
    "    return strategy"
   ]
  },
  {
   "cell_type": "markdown",
   "metadata": {},
   "source": [
    "Diese `best_action`-Funktion ist bereits ausreichend, um eine Strategie aus einem \\(Q\\) herzuleiten. Es besteht kein Bedarf, die Strategie explizit darzustellen.\n",
    "\n",
    "Der Iterationsschritt lässt sich am einfachsten funktional implementieren, indem wir die Gridworld vollständig neu konstruieren, indem wir über die Einträge in der alten Gridworld iterieren und die neu berechneten Bewertungen in eine neue Gridworld einfügen."
   ]
  },
  {
   "cell_type": "code",
   "execution_count": 4,
   "metadata": {},
   "outputs": [],
   "source": [
    "# calculating the directions rotated left and right from a given direction\n",
    "def rot_left (direction):\n",
    "    (dx, dy) = direction\n",
    "    return (-dy, dx)\n",
    "\n",
    "def rot_right (direction):\n",
    "    (dx, dy) = direction\n",
    "    return (dy, -dx)\n",
    "\n",
    "# calculate the score for a given target field – this is either the field value\n",
    "# itself for a constant field, or the maximum over the action scores for all actions\n",
    "# of an open field\n",
    "def field_score (field):\n",
    "    if type(field) is dict:\n",
    "        return max(list(field.values()))\n",
    "    else:\n",
    "        return field\n",
    "\n",
    "# we need a function to calculate a new field from a given gridworld and position\n",
    "def calculate_field (gridworld, position):\n",
    "    old_field = gridworld[position]  # assume that the referenced position\n",
    "                                     # does exist in the gridworld\n",
    "    # if the field is open, we need to recalculate it\n",
    "    if type(old_field) is dict:\n",
    "        new_field = make_open_field()\n",
    "        # now compute all the scores for the newly created field\n",
    "        for action in [(1,0), (-1,0), (0,1), (0,-1)]:\n",
    "            left = rot_left(action)\n",
    "            right = rot_right(action)\n",
    "            new_field[action] = 0.8 * field_score(get_neighbor(gridworld, position, action)) \\\n",
    "                + 0.1 * field_score(get_neighbor(gridworld, position, left)) \\\n",
    "                + 0.1 * field_score(get_neighbor(gridworld, position, right)) \\\n",
    "                - 0.04\n",
    "        return new_field\n",
    "    # otherwise the field is constant and we return it as is\n",
    "    else:\n",
    "        return old_field\n",
    "\n",
    "def update_gridworld (gridworld):\n",
    "    new_gridworld = gridworld.copy()\n",
    "    for (position, _) in gridworld.items():\n",
    "        new_gridworld[position] = calculate_field(gridworld, position)\n",
    "    return new_gridworld"
   ]
  },
  {
   "cell_type": "markdown",
   "metadata": {},
   "source": [
    "Zuletzt testen wir die ganze Sache:"
   ]
  },
  {
   "cell_type": "code",
   "execution_count": 5,
   "metadata": {},
   "outputs": [
    {
     "name": "stdout",
     "output_type": "stream",
     "text": [
      "{(0, 0): {(1, 0): 0, (-1, 0): 0, (0, 1): 0, (0, -1): 0}, (0, 1): {(1, 0): 0, (-1, 0): 0, (0, 1): 0, (0, -1): 0}, (0, 2): {(1, 0): 0, (-1, 0): 0, (0, 1): 0, (0, -1): 0}, (1, 0): {(1, 0): 0, (-1, 0): 0, (0, 1): 0, (0, -1): 0}, (1, 2): {(1, 0): 0, (-1, 0): 0, (0, 1): 0, (0, -1): 0}, (2, 0): {(1, 0): 0, (-1, 0): 0, (0, 1): 0, (0, -1): 0}, (2, 1): {(1, 0): 0, (-1, 0): 0, (0, 1): 0, (0, -1): 0}, (2, 2): {(1, 0): 0, (-1, 0): 0, (0, 1): 0, (0, -1): 0}, (3, 0): 1, (3, 1): -1, (3, 2): {(1, 0): 0, (-1, 0): 0, (0, 1): 0, (0, -1): 0}}\n",
      "{(1, 0): -0.14, (-1, 0): -0.14, (0, 1): -0.04, (0, -1): -0.8400000000000001}\n",
      "{(0, 0): {(1, 0): -0.04, (-1, 0): -0.04, (0, 1): -0.04, (0, -1): -0.04}, (0, 1): {(1, 0): -0.04, (-1, 0): -0.04, (0, 1): -0.04, (0, -1): -0.04}, (0, 2): {(1, 0): -0.04, (-1, 0): -0.04, (0, 1): -0.04, (0, -1): -0.04}, (1, 0): {(1, 0): -0.04, (-1, 0): -0.04, (0, 1): -0.04, (0, -1): -0.04}, (1, 2): {(1, 0): -0.04, (-1, 0): -0.04, (0, 1): -0.04, (0, -1): -0.04}, (2, 0): {(1, 0): 0.76, (-1, 0): -0.04, (0, 1): 0.060000000000000005, (0, -1): 0.060000000000000005}, (2, 1): {(1, 0): -0.8400000000000001, (-1, 0): -0.04, (0, 1): -0.14, (0, -1): -0.14}, (2, 2): {(1, 0): -0.04, (-1, 0): -0.04, (0, 1): -0.04, (0, -1): -0.04}, (3, 0): 1, (3, 1): -1, (3, 2): {(1, 0): -0.14, (-1, 0): -0.14, (0, 1): -0.04, (0, -1): -0.8400000000000001}}\n",
      "{(0, 0): {(1, 0): 0.8115582191780822, (-1, 0): 0.7665582191780823, (0, 1): 0.7371832191780823, (0, -1): 0.7771832191780823}, (0, 1): {(1, 0): 0.7209332191780823, (-1, 0): 0.7209332191780823, (0, 1): 0.6765582191780822, (0, -1): 0.7615582191780823}, (0, 2): {(1, 0): 0.6309332191780822, (-1, 0): 0.6709332191780822, (0, 1): 0.6603082191780822, (0, -1): 0.7053082191780823}, (1, 0): {(1, 0): 0.8678082191780823, (-1, 0): 0.7828082191780823, (0, 1): 0.8271832191780822, (0, -1): 0.8271832191780822}, (1, 2): {(1, 0): 0.5801940639269406, (-1, 0): 0.6553082191780822, (0, 1): 0.6159189497716895, (0, -1): 0.6159189497716895}, (2, 0): {(1, 0): 0.9178082191780822, (-1, 0): 0.812054794520548, (0, 1): 0.675, (0, -1): 0.881027397260274}, (2, 1): {(1, 0): -0.6870776255707763, (-1, 0): 0.6411415525114156, (0, 1): 0.4151598173515982, (0, -1): 0.6602739726027398}, (2, 2): {(1, 0): 0.3975088787417555, (-1, 0): 0.6114155251141552, (0, 1): 0.5534557331303906, (0, -1): 0.5925424911212583}, (3, 0): 1, (3, 1): -1, (3, 2): {(1, 0): 0.20913242009132427, (-1, 0): 0.3879249112125825, (0, 1): 0.3702739726027398, (0, -1): -0.7400659563673263}}\n",
      "{(0, 0): [(1, 0)], (0, 1): [(0, -1)], (0, 2): [(0, -1)], (1, 0): [(1, 0)], (1, 2): [(-1, 0)], (2, 0): [(1, 0)], (2, 1): [(0, -1)], (2, 2): [(-1, 0)], (3, 2): [(-1, 0)]}\n"
     ]
    }
   ],
   "source": [
    "gridworld = trivial_open_map((0,0))\n",
    "add_open_position(gridworld, (0,1))\n",
    "add_open_position(gridworld, (0,2))\n",
    "add_open_position(gridworld, (1,0))\n",
    "add_open_position(gridworld, (1,2))\n",
    "add_open_position(gridworld, (2,0))\n",
    "add_open_position(gridworld, (2,1))\n",
    "add_open_position(gridworld, (2,2))\n",
    "add_constant_position(gridworld, (3,0),  1)\n",
    "add_constant_position(gridworld, (3,1), -1)\n",
    "add_open_position(gridworld, (3,2))\n",
    "\n",
    "print ( gridworld )\n",
    "\n",
    "print ( calculate_field(gridworld, (3,2)) )\n",
    "\n",
    "gridworld = update_gridworld(gridworld)\n",
    "\n",
    "print ( gridworld )\n",
    "\n",
    "for _ in range(1000):\n",
    "    gridworld = update_gridworld(gridworld)\n",
    "\n",
    "print ( gridworld )\n",
    "\n",
    "print ( extract_strategy(gridworld) )"
   ]
  }
 ],
 "metadata": {
  "kernelspec": {
   "display_name": "Python 3",
   "language": "python",
   "name": "python3"
  },
  "language_info": {
   "codemirror_mode": {
    "name": "ipython",
    "version": 3
   },
   "file_extension": ".py",
   "mimetype": "text/x-python",
   "name": "python",
   "nbconvert_exporter": "python",
   "pygments_lexer": "ipython3",
   "version": "3.8.5"
  }
 },
 "nbformat": 4,
 "nbformat_minor": 4
}
