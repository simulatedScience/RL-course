{
 "cells": [
  {
   "cell_type": "markdown",
   "metadata": {},
   "source": [
    "# Aufgabe 1\n",
    "Der große Vorteil der dynamischen Programmierung ist die Wiederverwendbarkeit bereits berechneter Werte. Also verwenden wir einen iterativen Ansatz, in dem die Tabelle Zeile für Zeile aufgebaut wird, um groß genug für das abgefragte Gewicht zu werden.\n",
    "\n",
    "Als erstes implementieren wir also die Funktion, die zu einer bereits bestehenden Tabelle eine weitere Zeile hinzufügt. Hierbei gehen wir davon aus, dass die Tabelle eine Spalte mehr hat als es zu betrachtende Gegenstände gibt, und dass die eingegebene Tabelle mit denselben Gegenständen erzeugt wurde, wie an diese Funktion übergeben werden.\n",
    "\n",
    "Die Gewichte und Werte der Gegenstände werden in unabhängigen Arrays gespeichert."
   ]
  },
  {
   "cell_type": "code",
   "execution_count": 1,
   "metadata": {},
   "outputs": [],
   "source": [
    "def add_row (table, weights, values):\n",
    "    # determine how far we need to iterate in the table\n",
    "    max_i = min(len(weights), len(values)) + 1\n",
    "    # the new weight is exactly the amount of rows in the table\n",
    "    g = len(table)\n",
    "    # adding the new row\n",
    "    table = table + [[0 for _ in range(max_i)]]\n",
    "    # and filling it\n",
    "    for i in range(1, max_i):\n",
    "        w = weights[i-1]  # the i-th item is saved in the i-1-th position in these arrays\n",
    "        # in the following we're always operating on the last row\n",
    "        if g-w < 0:\n",
    "            table[-1][i] = table[-1][i-1]\n",
    "        else:\n",
    "            # same consideration for `values` as in `weights` above\n",
    "            table[-1][i] = max(table[-1][i-1], values[i-1] + table[g-w][i-1])\n",
    "    return table"
   ]
  },
  {
   "cell_type": "markdown",
   "metadata": {},
   "source": [
    "After creating the table, we'll need to read from it."
   ]
  },
  {
   "cell_type": "code",
   "execution_count": 2,
   "metadata": {},
   "outputs": [],
   "source": [
    "def backtrack (table, weights, weight):\n",
    "    result = []\n",
    "    # assume that the rows have all the same length\n",
    "    for i in range(len(table[0]) - 1, 0, -1):\n",
    "        if table[weight][i] != table[weight][i-1]:\n",
    "            # again, `weights` is shifted by one relative to the rows in the table\n",
    "            weight = weight - weights[i-1]\n",
    "            result.append(i)\n",
    "    return result"
   ]
  },
  {
   "cell_type": "markdown",
   "metadata": {},
   "source": [
    "In der Praxis werden wir wohl am ehesten eine optimale Auswahl von Gegenständen für ein gegebenes Gewicht wissen wollen, ohne dafür per Hand erst die Tabelle erzeugen zu müssen. Natürlich wollen wir eine bereits vorhandene Tabelle weiter verwenden können. Die nächste Funktion nimmt also eine Tabelle entgegen, erweitert sie nach Bedarf und extrahiert dann das gewünschte Ergebnis. Zurückgegeben wird das Ergebnis sowie die erweiterte Tabelle für die zukünftige Benutzung."
   ]
  },
  {
   "cell_type": "code",
   "execution_count": 3,
   "metadata": {},
   "outputs": [],
   "source": [
    "def backpack (table, weights, values, weight):\n",
    "    # add the missing rows\n",
    "    for _ in range(1 + weight - len(table)):\n",
    "        table = add_row(table, weights, values)\n",
    "    return backtrack(table, weights, weight), table"
   ]
  },
  {
   "cell_type": "markdown",
   "metadata": {},
   "source": [
    "Eine Funktion zum Erstellen einer grundsätzlichen Tabelle für eine gegebene Menge von Gegenständen:"
   ]
  },
  {
   "cell_type": "code",
   "execution_count": 4,
   "metadata": {},
   "outputs": [],
   "source": [
    "def make_table (weights, values):\n",
    "    return [[0 for _ in range(1 + min(len(values), len(weights)))]]"
   ]
  },
  {
   "cell_type": "markdown",
   "metadata": {},
   "source": [
    "Zum Testen:"
   ]
  },
  {
   "cell_type": "code",
   "execution_count": 5,
   "metadata": {
    "scrolled": true
   },
   "outputs": [
    {
     "name": "stdout",
     "output_type": "stream",
     "text": [
      "|    0 |    0 |    0 |    0 |    0 |\n",
      "|    0 |    0 |    0 |    0 |    0 |\n",
      "|    0 |    0 |    0 |    0 |    0 |\n",
      "|    0 |    0 |    0 |    0 |   50 |\n",
      "|    0 |    0 |   40 |   40 |   50 |\n",
      "|    0 |   10 |   40 |   40 |   50 |\n",
      "|    0 |   10 |   40 |   40 |   50 |\n",
      "|    0 |   10 |   40 |   40 |   90 |\n",
      "[4, 2]\n"
     ]
    }
   ],
   "source": [
    "# define a function for printing tables\n",
    "def print_table (table):\n",
    "    for row in table:\n",
    "        format_row = \"| {:>4} \" * len(row) + \"|\"\n",
    "        print ( format_row.format(*row) )\n",
    "\n",
    "weights = [5, 4, 6, 3]\n",
    "values = [10, 40, 30, 50]\n",
    "table = make_table(weights, values)\n",
    "\n",
    "# define a function working on the test data\n",
    "def backpack_test (weight):\n",
    "    global weights, values, table\n",
    "    result, table = backpack(table, weights, values, weight)\n",
    "    print_table ( table )\n",
    "    print ( result )\n",
    "\n",
    "backpack_test(7)"
   ]
  },
  {
   "cell_type": "markdown",
   "metadata": {},
   "source": [
    "und um die Wiederverwendbarkeit der Tabelle zu demonstrieren:"
   ]
  },
  {
   "cell_type": "code",
   "execution_count": 6,
   "metadata": {},
   "outputs": [
    {
     "name": "stdout",
     "output_type": "stream",
     "text": [
      "|    0 |    0 |    0 |    0 |    0 |\n",
      "|    0 |    0 |    0 |    0 |    0 |\n",
      "|    0 |    0 |    0 |    0 |    0 |\n",
      "|    0 |    0 |    0 |    0 |   50 |\n",
      "|    0 |    0 |   40 |   40 |   50 |\n",
      "|    0 |   10 |   40 |   40 |   50 |\n",
      "|    0 |   10 |   40 |   40 |   50 |\n",
      "|    0 |   10 |   40 |   40 |   90 |\n",
      "|    0 |   10 |   40 |   40 |   90 |\n",
      "|    0 |   10 |   50 |   50 |   90 |\n",
      "|    0 |   10 |   50 |   70 |   90 |\n",
      "|    0 |   10 |   50 |   70 |   90 |\n",
      "|    0 |   10 |   50 |   70 |  100 |\n",
      "|    0 |   10 |   50 |   70 |  120 |\n",
      "|    0 |   10 |   50 |   70 |  120 |\n",
      "|    0 |   10 |   50 |   80 |  120 |\n",
      "|    0 |   10 |   50 |   80 |  120 |\n",
      "|    0 |   10 |   50 |   80 |  120 |\n",
      "[4, 3, 2]\n"
     ]
    }
   ],
   "source": [
    "backpack_test(17)"
   ]
  }
 ],
 "metadata": {
  "kernelspec": {
   "display_name": "Python 3",
   "language": "python",
   "name": "python3"
  },
  "language_info": {
   "codemirror_mode": {
    "name": "ipython",
    "version": 3
   },
   "file_extension": ".py",
   "mimetype": "text/x-python",
   "name": "python",
   "nbconvert_exporter": "python",
   "pygments_lexer": "ipython3",
   "version": "3.8.5"
  }
 },
 "nbformat": 4,
 "nbformat_minor": 4
}
