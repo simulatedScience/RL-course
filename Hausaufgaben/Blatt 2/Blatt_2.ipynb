{
 "metadata": {
  "language_info": {
   "codemirror_mode": {
    "name": "ipython",
    "version": 3
   },
   "file_extension": ".py",
   "mimetype": "text/x-python",
   "name": "python",
   "nbconvert_exporter": "python",
   "pygments_lexer": "ipython3",
   "version": "3.7.0-final"
  },
  "orig_nbformat": 2,
  "kernelspec": {
   "name": "python37064bit0abb7b7769c2407694c8bddfdec1999b",
   "display_name": "Python 3.7.0 64-bit"
  }
 },
 "nbformat": 4,
 "nbformat_minor": 2,
 "cells": [
  {
   "cell_type": "markdown",
   "metadata": {},
   "source": [
    "# Aufgabe 1: Rucksackproblem"
   ]
  },
  {
   "cell_type": "code",
   "execution_count": 121,
   "metadata": {},
   "outputs": [],
   "source": [
    "def solve_backpack(weight_list, value_list, max_i, max_weight):\n",
    "    \"\"\"\n",
    "    optimize the value given a maximum weight by choosing several items from the lists\n",
    "    inputs:\n",
    "        weight_list - (list) - list of positive floats representing weights\n",
    "        value_list - (list) - list of positive floats representing value\n",
    "            both lists must have equal length\n",
    "    returns:\n",
    "        (float) - maximum value of the chosen items\n",
    "        (list) of ints - indices of the chosen items\n",
    "    \"\"\"\n",
    "    # print(f\"({max_i+1}, {max_weight})\", end=\", \")\n",
    "    if max_i < 0: #no items left to choose\n",
    "        return 0, []\n",
    "    # if max_weight < 0: # \n",
    "    #     return -1e10, []\n",
    "    vi, wi = value_list[max_i], weight_list[max_i]\n",
    "    # calculate sub-problems:\n",
    "    # don't choose the current item\n",
    "    value_2, items_2 = solve_backpack(weight_list, value_list, max_i-1, max_weight)\n",
    "    if wi > max_weight: # prevents the case of max_weigth < 0\n",
    "        return value_2, items_2\n",
    "    # choose the current item:\n",
    "    value_1, items_1 = solve_backpack(weight_list, value_list, max_i-1, max_weight-wi)\n",
    "    value_1 += vi\n",
    "    # if the value of choosing the current item is greater than the value for not choosing it, return the value and list for when the item is chosen.\n",
    "    if value_1 > value_2:\n",
    "        return value_1, items_1+[max_i]\n",
    "    return value_2, items_2"
   ]
  },
  {
   "cell_type": "code",
   "execution_count": 122,
   "metadata": {
    "tags": []
   },
   "outputs": [
    {
     "output_type": "stream",
     "name": "stdout",
     "text": "weigths:  (3, 4, 5, 1)\nvalues:   (9, 5, 10, 15)\n(4, 8), (3, 8), (2, 8), (1, 8), (0, 8), (0, 5), (1, 4), (0, 4), (0, 1), (2, 3), (1, 3), (0, 3), (0, 0), (3, 7), (2, 7), (1, 7), (0, 7), (0, 4), (1, 3), (0, 3), (0, 0), (2, 2), (1, 2), (0, 2), 29 [0, 1, 3]\n"
    }
   ],
   "source": [
    "# Vorlesungsbeispiel:\n",
    "import random\n",
    "pairs = [(1,15), (5,10), (3,9), (4,5)]\n",
    "random.shuffle(pairs)\n",
    "weigths, values = list(zip(*pairs))\n",
    "print(\"weigths: \", weigths)\n",
    "print(\"values:  \", values)\n",
    "print(*solve_backpack(weigths, values, len(weigths)-1, 8))"
   ]
  },
  {
   "cell_type": "code",
   "execution_count": 112,
   "metadata": {
    "tags": []
   },
   "outputs": [
    {
     "output_type": "stream",
     "name": "stdout",
     "text": "100 [0, 1, 3]\n"
    }
   ],
   "source": [
    "weigths = [5, 4, 6, 3]\n",
    "values = [10, 40, 30, 50]\n",
    "print(*solve_backpack(weigths, values, len(weigths)-1, 12))"
   ]
  },
  {
   "cell_type": "markdown",
   "metadata": {},
   "source": [
    "# Aufgabe 2\n",
    "## a)"
   ]
  },
  {
   "cell_type": "markdown",
   "metadata": {},
   "source": [
    "Wir suchen die bedingte Übergangsmatrix $P$ für das Matchstick Game, wenn der Agent, wenn möglich, immer die Aktion selbst wählt und die Umgebung zufällig gleichverteilt 1,2 oder 3 als Aktion wählt.\n",
    "\n",
    "Wie in der Vorlesung beginnt das Spiel mit 21 Stäbchen. \n",
    "\n",
    "Es werden in jeder Runde immer 3 (2+1),4 (2+2) oder 5 (2+3) Stäbchen weniger, jeweils mit Wahrscheinlichkeit $\\frac{1}{3}$.\n",
    "\n",
    "Es gibt wieder 22 Zustände: Im $n$-ten Zustand sind noch genau $n$ Stäbchen verfügbar ($n \\in \\{0, 1, ..., 21\\}).\n",
    "\n",
    "Dabei ist Zustand 20 und 19 aber nicht erreichbar, da vom Startzustand (21) aus durch die vorgegebene Policy ($A_t = 2$) mindestens 3 Stäbchen genommen werden.\n",
    "Außerdem kann von keinem Zustand aus durch eine legale Aktion Zustand 21 erreicht werden.\n",
    "\n",
    "Der Zustand $n$ wird dargestellt als ein 22-Tupel mit einer $1$ an Stelle $n$ und sonst nur Nullen. So kann mit $s \\cdot P$ die Wahrscheinlichkeit für jeden Zustandsübergang von $s$ nach $s'$ erhalten werden.\n",
    "\n",
    "Die Matrix $P$ ist also wieder eine $22\\times 22$ Matrix."
   ]
  },
  {
   "cell_type": "markdown",
   "metadata": {},
   "source": [
    "Betrachten wir den Zustand $s = n$, dann sind mit der gegebenen Policy $A_t = 2$ nur die Folgezustände $n-3$, $n-4$ und $n-5$ möglich, außer es sind nicht mehr genügend Stäbchen vorhanden. Die drei Möglicheiten sind dabei alle gleich wahrscheinlich.\n",
    "\n",
    "Also ergibt sich folgende Matrix:\n",
    "$$\n",
    "P = \\left(\n",
    "\\begin{array}{cccccccccccccccccccccc}\n",
    " 1 & 0 & 0 & 0 & 0 & 0 & 0 & 0 & 0 & 0 & 0 & 0 & 0 & 0 & 0 & 0 & 0 & 0 & 0 & 0 & 0 & 0 & 0 \\\\ % 0\n",
    " 1 & 0 & 0 & 0 & 0 & 0 & 0 & 0 & 0 & 0 & 0 & 0 & 0 & 0 & 0 & 0 & 0 & 0 & 0 & 0 & 0 & 0 & 0 \\\\ % 1\n",
    " 1 & 0 & 0 & 0 & 0 & 0 & 0 & 0 & 0 & 0 & 0 & 0 & 0 & 0 & 0 & 0 & 0 & 0 & 0 & 0 & 0 & 0 & 0 \\\\ % 2\n",
    " 1 & 0 & 0 & 0 & 0 & 0 & 0 & 0 & 0 & 0 & 0 & 0 & 0 & 0 & 0 & 0 & 0 & 0 & 0 & 0 & 0 & 0 & 0 \\\\ % 3\n",
    " \\frac{1}{2} & \\frac{1}{2} & 0 & 0 & 0 & 0 & 0 & 0 & 0 & 0 & 0 & 0 & 0 & 0 & 0 & 0 & 0 & 0 & 0 & 0 & 0 & 0 & 0 \\\\ % 4\n",
    " \\frac{1}{3} & \\frac{1}{3} & \\frac{1}{3} & 0 & 0 & 0 & 0 & 0 & 0 & 0 & 0 & 0 & 0 & 0 & 0 & 0 & 0 & 0 & 0 & 0 & 0 & 0 & 0 \\\\ % 5\n",
    " 0 & \\frac{1}{3} & \\frac{1}{3} & \\frac{1}{3} & 0 & 0 & 0 & 0 & 0 & 0 & 0 & 0 & 0 & 0 & 0 & 0 & 0 & 0 & 0 & 0 & 0 & 0 & 0 \\\\ % 6\n",
    " 0 & 0 & \\frac{1}{3} & \\frac{1}{3} & \\frac{1}{3} & 0 & 0 & 0 & 0 & 0 & 0 & 0 & 0 & 0 & 0 & 0 & 0 & 0 & 0 & 0 & 0 & 0 & 0 \\\\ % 7\n",
    " 0 & 0 & 0 & \\frac{1}{3} & \\frac{1}{3} & \\frac{1}{3} & 0 & 0 & 0 & 0 & 0 & 0 & 0 & 0 & 0 & 0 & 0 & 0 & 0 & 0 & 0 & 0 & 0 \\\\ % 8\n",
    " 0 & 0 & 0 & 0 & \\frac{1}{3} & \\frac{1}{3} & \\frac{1}{3} & 0 & 0 & 0 & 0 & 0 & 0 & 0 & 0 & 0 & 0 & 0 & 0 & 0 & 0 & 0 & 0 \\\\ % 9\n",
    " 0 & 0 & 0 & 0 & 0 & \\frac{1}{3} & \\frac{1}{3} & \\frac{1}{3} & 0 & 0 & 0 & 0 & 0 & 0 & 0 & 0 & 0 & 0 & 0 & 0 & 0 & 0 & 0 \\\\ % 10\n",
    " 0 & 0 & 0 & 0 & 0 & 0 & \\frac{1}{3} & \\frac{1}{3} & \\frac{1}{3} & 0 & 0 & 0 & 0 & 0 & 0 & 0 & 0 & 0 & 0 & 0 & 0 & 0 & 0 \\\\ % 11\n",
    " 0 & 0 & 0 & 0 & 0 & 0 & 0 & \\frac{1}{3} & \\frac{1}{3} & \\frac{1}{3} & 0 & 0 & 0 & 0 & 0 & 0 & 0 & 0 & 0 & 0 & 0 & 0 & 0 \\\\ % 12\n",
    " 0 & 0 & 0 & 0 & 0 & 0 & 0 & 0 & \\frac{1}{3} & \\frac{1}{3} & \\frac{1}{3} & 0 & 0 & 0 & 0 & 0 & 0 & 0 & 0 & 0 & 0 & 0 & 0 \\\\ % 13\n",
    " 0 & 0 & 0 & 0 & 0 & 0 & 0 & 0 & 0 & \\frac{1}{3} & \\frac{1}{3} & \\frac{1}{3} & 0 & 0 & 0 & 0 & 0 & 0 & 0 & 0 & 0 & 0 & 0 \\\\ % 14\n",
    " 0 & 0 & 0 & 0 & 0 & 0 & 0 & 0 & 0 & 0 & \\frac{1}{3} & \\frac{1}{3} & \\frac{1}{3} & 0 & 0 & 0 & 0 & 0 & 0 & 0 & 0 & 0 & 0 \\\\ % 15\n",
    " 0 & 0 & 0 & 0 & 0 & 0 & 0 & 0 & 0 & 0 & 0 & \\frac{1}{3} & \\frac{1}{3} & \\frac{1}{3} & 0 & 0 & 0 & 0 & 0 & 0 & 0 & 0 & 0 \\\\ % 16\n",
    " 0 & 0 & 0 & 0 & 0 & 0 & 0 & 0 & 0 & 0 & 0 & 0 & \\frac{1}{3} & \\frac{1}{3} & \\frac{1}{3} & 0 & 0 & 0 & 0 & 0 & 0 & 0 & 0 \\\\ % 17\n",
    " 0 & 0 & 0 & 0 & 0 & 0 & 0 & 0 & 0 & 0 & 0 & 0 & 0 & \\frac{1}{3} & \\frac{1}{3} & \\frac{1}{3} & 0 & 0 & 0 & 0 & 0 & 0 & 0 \\\\ % 18\n",
    " 0 & 0 & 0 & 0 & 0 & 0 & 0 & 0 & 0 & 0 & 0 & 0 & 0 & 0 & \\frac{1}{3} & \\frac{1}{3} & \\frac{1}{3} & 0 & 0 & 0 & 0 & 0 & 0 \\\\ % 19\n",
    " 0 & 0 & 0 & 0 & 0 & 0 & 0 & 0 & 0 & 0 & 0 & 0 & 0 & 0 & 0 & \\frac{1}{3} & \\frac{1}{3} & \\frac{1}{3} & 0 & 0 & 0 & 0 & 0 \\\\ % 20\n",
    " 0 & 0 & 0 & 0 & 0 & 0 & 0 & 0 & 0 & 0 & 0 & 0 & 0 & 0 & 0 & 0 & \\frac{1}{3} & \\frac{1}{3} & \\frac{1}{3} & 0 & 0 & 0 & 0 \\\\ % 21\n",
    " 0 & 0 & 0 & 0 & 0 & 0 & 0 & 0 & 0 & 0 & 0 & 0 & 0 & 0 & 0 & 0 & 0 & \\frac{1}{3} & \\frac{1}{3} & \\frac{1}{3} & 0 & 0 & 0 \\\\ % 22\n",
    "\\end{array}\n",
    "\\right)\n",
    "$$"
   ]
  },
  {
   "cell_type": "markdown",
   "metadata": {},
   "source": [
    "Besonders sind hier die Fälle $0$ bis $4$, die abweichende Wahrscheinlichkeiten beinhalten. Dazu hier die Erklärung:\n",
    "- In Zustand 4 nimmt der Agent zuerst 2 Stäbchen. Es bleiben also noch 2. Spieler 2 nimmt dann mit gleicher Wahrscheinlichkeit 1 oder 2 Stäbchen, da drei nicht mehr möglich sind. Somit ergibt sich die Wahrscheinlichkeit von jeweils $\\frac{1}{2}$ für die Übergänge in Zustand $0$ bzw. $1$.\n",
    "\n",
    "- In Zustand 3 nimmt der Agent 2 Stäbchen, sodass Spieler 2 nur die Option bleibt das letzte zu nehmen, sodass ein Übergang zu Zustand $0$ garantiert ist.\n",
    "- In Zustand 2 nimmt der Agent 2 Stäbchen und verliert damit sofort (erreicht Zustand $0$).\n",
    "- In Zustand 1 kann der Agent keine 2 Stäbchen nehmen, nimmt also nur das eine verbleibende und verliert damit sofort (erreicht Zustand $0$).\n",
    "\n",
    "Außerdem ist in der Matrix ersichtlich, dass die Zustände $21$, $20$ und $19$ nicht Folgezustände anderer sind. Die vorletzten zwei Zeilen (19 und 20) sind also für die gegebenen Strategien eigentlich nie relevant."
   ]
  },
  {
   "cell_type": "markdown",
   "metadata": {},
   "source": [
    "## b)"
   ]
  },
  {
   "cell_type": "markdown",
   "metadata": {},
   "source": [
    "Wir wollen prüfen ob der Bellman-Erwartungs-Operator $T^\\pi$ die Voraussetzungen für den Banachschen Fixpunktsatz erfüllt, also eine Kontraktion ist.\n",
    "\n",
    "Dazu betrachten wir den metrischen Raum $\\mathbb{R}^{22}$ und definieren $T^\\pi(v) := R^\\pi + \\gamma P^\\pi v$.\n",
    "Wir gehen davon aus, dass alle $v$ in einer kompakten Teilmenge von $\\mathbb{R}^{22}$ liegen, ein Zustand also nur begrenzt große Wertung hat.\n",
    "\n",
    "Nun wollen prüfen, ob $T^\\pi$ eine $\\gamma$-Kontraktion ist.\n",
    "\n",
    "### Beweis:\n",
    "\n",
    "- $R^\\pi \\in \\mathbb{R}^{22}$ ist ein konstanter Vektor.\n",
    "- $P^\\pi$ ist wie in a) definiert die Zustands-Übergangsmatrix.\n",
    "- $\\gamma \\in [0,1]$\n",
    "\n",
    "Seien $a,b \\in \\mathbb{R}^{22}$ mit $d(a,b) = \\sqrt{(b_1 - a_1)^2 + ... (b_{22}-a_{22})^2}$.\n",
    "\n",
    "Zu zeigen ist nun also dass $d(T^\\pi(a), T^\\pi(b)) \\leq \\gamma \\, d(a,b)$ gilt.\n",
    "\n",
    "Einsetzen Definition von $T^\\pi$ ergibt:\n",
    "$$\n",
    "\\begin{align}\n",
    "d(T^\\pi(a), T^\\pi(b)) &= \\big| T^\\pi(b)-T^\\pi(a) \\big|                                          \\\\\n",
    "                      &= \\big| ( R^\\pi + \\gamma P^\\pi b )  -  ( R^\\pi + \\gamma P^\\pi a ) \\big|  \\\\\n",
    "                      &= \\big|  R^\\pi - R^\\pi  +  \\gamma P^\\pi b - \\gamma P^\\pi a  \\big|        \\\\\n",
    "                      &= \\big|  \\gamma (P^\\pi b - P^\\pi a)  \\big|                               \\\\\n",
    "                      &\\overset{\\gamma \\, \\geq \\, 0}{=} \\gamma \\, \\big| P^\\pi b - P^\\pi a \\big| \\\\\n",
    "                      &= \\gamma \\, \\big| P^\\pi (b - a) \\big|                                    \\\\\n",
    "                      &\\not\\leq \\gamma \\, |b-a|                                                 \\\\\n",
    "                      &= \\gamma \\, d(a,b)\n",
    "\\end{align}\n",
    "$$\n",
    "\n",
    "Diese Ungleichung gilt nicht. Betrachte dazu folgendes Gegenbeispiel:\n"
   ]
  },
  {
   "cell_type": "markdown",
   "metadata": {},
   "source": [
    "Sei $a = 0 \\in \\mathbb{R}^{22}$ der Nullvektor und $e_1 = (1,0,0,...,0) \\in \\mathbb{R}^{22}$ der Einheitsvektor.\n",
    "\n",
    "Beide Vektoren stellen denkbare Bewertungsfunktionen $V$ dar.\n",
    "\n",
    "Dann gilt aber $P^\\pi\\,(e_1-a) = P^\\pi e_1 = (1,1,1,1,\\frac{1}{2}, \\frac{1}{3}, 0,0, ...,0)$. Damit gilt offensichtlich $|P^\\pi e_1| > |e_1|$, sodass die Ungleichung widerlegt ist.\n",
    "\n",
    "Daher ist die Funktion $T^\\pi$ **keine** Kontraktion."
   ]
  }
 ]
}