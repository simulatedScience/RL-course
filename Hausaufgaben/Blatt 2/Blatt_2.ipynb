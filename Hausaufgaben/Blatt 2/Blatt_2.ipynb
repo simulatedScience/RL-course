{
 "cells": [
  {
   "cell_type": "markdown",
   "metadata": {},
   "source": [
    "# Aufgabe 1: Rucksackproblem\n",
    "\n",
    "Der große Vorteil der dynamischen Programmierung ist die Wiederverwendbarkeit bereits berechneter Werte. Also verwenden wir einen iterativen Ansatz, in dem die Tabelle Zeile für Zeile aufgebaut wird, um groß genug für das abgefragte Gewicht zu werden.\n",
    "\n",
    "Als erstes implementieren wir also die Funktion, die zu einer bereits bestehenden Tabelle eine weitere Zeile hinzufügt. Hierbei gehen wir davon aus, dass die Tabelle eine Spalte mehr hat als es zu betrachtende Gegenstände gibt, und dass die eingegebene Tabelle mit denselben Gegenständen erzeugt wurde, wie an diese Funktion übergeben werden.\n",
    "\n",
    "Die Gewichte und Werte der Gegenstände werden in unabhängigen Arrays gespeichert."
   ]
  },
  {
   "cell_type": "code",
   "execution_count": 1,
   "metadata": {},
   "outputs": [],
   "source": [
    "def add_row (table, weights, values):\n",
    "    \"\"\"Return a table with one more row than and the same contents as the given table.\n",
    "    Compute the added row as per the dynamic programming paradigm for the knapsack problem.\"\"\"\n",
    "    # determine how far we need to iterate in the table\n",
    "    max_i = min(len(weights), len(values)) + 1\n",
    "    # the new weight is exactly the amount of rows in the table\n",
    "    g = len(table)\n",
    "    # adding the new row\n",
    "    table = table + [[0 for _ in range(max_i)]]\n",
    "    # and filling it\n",
    "    for i in range(1, max_i):\n",
    "        w = weights[i-1]  # the i-th item is saved in the i-1-th position in these arrays\n",
    "        # in the following we're always operating on the last row\n",
    "        if g-w < 0:\n",
    "            table[-1][i] = table[-1][i-1]\n",
    "        else:\n",
    "            # same consideration for `values` as in `weights` above\n",
    "            table[-1][i] = max(table[-1][i-1], values[i-1] + table[g-w][i-1])\n",
    "    return table"
   ]
  },
  {
   "cell_type": "markdown",
   "metadata": {},
   "source": [
    "Nachdem wir die Tabelle generiert haben können wir die Werte auslesen."
   ]
  },
  {
   "cell_type": "code",
   "execution_count": 2,
   "metadata": {},
   "outputs": [],
   "source": [
    "def backtrack (table, weights, weight):\n",
    "    \"\"\"Return the list of 1-indexed items with maximum cumulative value\n",
    "    such that the cumulative weight of the items is less or equal to the specified weight.\"\"\"\n",
    "    result = []\n",
    "    # assume that the rows have all the same length\n",
    "    for i in range(len(table[0]) - 1, 0, -1):\n",
    "        if table[weight][i] != table[weight][i-1]:\n",
    "            # again, `weights` is shifted by one relative to the rows in the table\n",
    "            weight = weight - weights[i-1]\n",
    "            result.append(i)\n",
    "    return result"
   ]
  },
  {
   "cell_type": "markdown",
   "metadata": {},
   "source": [
    "In der Praxis werden wir wohl am ehesten eine optimale Auswahl von Gegenständen für ein gegebenes Gewicht wissen wollen, ohne dafür per Hand erst die Tabelle erzeugen zu müssen. Natürlich wollen wir eine bereits vorhandene Tabelle weiter verwenden können. Die nächste Funktion nimmt also eine Tabelle entgegen, erweitert sie nach Bedarf und extrahiert dann das gewünschte Ergebnis. Zurückgegeben wird das Ergebnis sowie die erweiterte Tabelle für die zukünftige Benutzung."
   ]
  },
  {
   "cell_type": "code",
   "execution_count": 3,
   "metadata": {},
   "outputs": [],
   "source": [
    "def backpack (table, weights, values, weight):\n",
    "    \"\"\"Return solution to knapsack problem with (partially) precomputed table\n",
    "    as well as updated table.\"\"\"\n",
    "    # add the missing rows\n",
    "    for _ in range(1 + weight - len(table)):\n",
    "        table = add_row(table, weights, values)\n",
    "    return backtrack(table, weights, weight), table"
   ]
  },
  {
   "cell_type": "markdown",
   "metadata": {},
   "source": [
    "Eine Funktion zum Erstellen einer grundsätzlichen Tabelle für eine gegebene Menge von Gegenständen:"
   ]
  },
  {
   "cell_type": "code",
   "execution_count": 4,
   "metadata": {},
   "outputs": [],
   "source": [
    "def make_table (weights, values):\n",
    "    \"\"\"Return table with one row for use in dynamic programming solution of the knapsack problem.\"\"\"\n",
    "    return [[0 for _ in range(1 + min(len(values), len(weights)))]]"
   ]
  },
  {
   "cell_type": "markdown",
   "metadata": {},
   "source": [
    "Zum Testen:"
   ]
  },
  {
   "cell_type": "code",
   "execution_count": 5,
   "metadata": {
    "scrolled": true
   },
   "outputs": [
    {
     "name": "stdout",
     "output_type": "stream",
     "text": [
      "|    0 |    0 |    0 |    0 |    0 |\n",
      "|    0 |    0 |    0 |    0 |    0 |\n",
      "|    0 |    0 |    0 |    0 |    0 |\n",
      "|    0 |    0 |    0 |    0 |   50 |\n",
      "|    0 |    0 |   40 |   40 |   50 |\n",
      "|    0 |   10 |   40 |   40 |   50 |\n",
      "|    0 |   10 |   40 |   40 |   50 |\n",
      "|    0 |   10 |   40 |   40 |   90 |\n",
      "[4, 2]\n"
     ]
    }
   ],
   "source": [
    "# define a function for printing tables\n",
    "def print_table (table):\n",
    "    \"\"\"Print table with \"|\" delimiters between columns.\"\"\"\n",
    "    for row in table:\n",
    "        format_row = \"| {:>4} \" * len(row) + \"|\"\n",
    "        print ( format_row.format(*row) )\n",
    "\n",
    "weights = [5, 4, 6, 3]\n",
    "values = [10, 40, 30, 50]\n",
    "table = make_table(weights, values)\n",
    "\n",
    "# define a function working on the test data\n",
    "def backpack_test (weight):\n",
    "    \"\"\"Compute and display table and solution for knapsack problem with given items for the specified weight.\"\"\"\n",
    "    global weights, values, table\n",
    "    result, table = backpack(table, weights, values, weight)\n",
    "    print_table ( table )\n",
    "    print ( result )\n",
    "\n",
    "backpack_test(7)"
   ]
  },
  {
   "cell_type": "markdown",
   "metadata": {},
   "source": [
    "und um die Wiederverwendbarkeit der Tabelle zu demonstrieren:"
   ]
  },
  {
   "cell_type": "code",
   "execution_count": 6,
   "metadata": {},
   "outputs": [
    {
     "name": "stdout",
     "output_type": "stream",
     "text": [
      "|    0 |    0 |    0 |    0 |    0 |\n",
      "|    0 |    0 |    0 |    0 |    0 |\n",
      "|    0 |    0 |    0 |    0 |    0 |\n",
      "|    0 |    0 |    0 |    0 |   50 |\n",
      "|    0 |    0 |   40 |   40 |   50 |\n",
      "|    0 |   10 |   40 |   40 |   50 |\n",
      "|    0 |   10 |   40 |   40 |   50 |\n",
      "|    0 |   10 |   40 |   40 |   90 |\n",
      "|    0 |   10 |   40 |   40 |   90 |\n",
      "|    0 |   10 |   50 |   50 |   90 |\n",
      "|    0 |   10 |   50 |   70 |   90 |\n",
      "|    0 |   10 |   50 |   70 |   90 |\n",
      "|    0 |   10 |   50 |   70 |  100 |\n",
      "|    0 |   10 |   50 |   70 |  120 |\n",
      "|    0 |   10 |   50 |   70 |  120 |\n",
      "|    0 |   10 |   50 |   80 |  120 |\n",
      "|    0 |   10 |   50 |   80 |  120 |\n",
      "|    0 |   10 |   50 |   80 |  120 |\n",
      "[4, 3, 2]\n"
     ]
    }
   ],
   "source": [
    "backpack_test(17)"
   ]
  },
  {
   "cell_type": "markdown",
   "metadata": {},
   "source": [
    "# Aufgabe 2\n",
    "## a)"
   ]
  },
  {
   "cell_type": "markdown",
   "metadata": {},
   "source": [
    "Wir suchen die bedingte Übergangsmatrix $P$ für das Matchstick Game, wenn der Agent, wenn möglich, immer die Aktion selbst wählt und die Umgebung zufällig gleichverteilt 1,2 oder 3 als Aktion wählt.\n",
    "\n",
    "Wie in der Vorlesung beginnt das Spiel mit 21 Stäbchen. \n",
    "\n",
    "Es werden in jeder Runde immer 3 (2+1),4 (2+2) oder 5 (2+3) Stäbchen weniger, jeweils mit Wahrscheinlichkeit $\\frac{1}{3}$.\n",
    "\n",
    "Es gibt wieder 22 Zustände: Im $n$-ten Zustand sind noch genau $n$ Stäbchen verfügbar ($n \\in \\{0, 1, ..., 21\\}).\n",
    "\n",
    "Dabei ist Zustand 20 und 19 aber nicht erreichbar, da vom Startzustand (21) aus durch die vorgegebene Policy ($A_t = 2$) mindestens 3 Stäbchen genommen werden.\n",
    "Außerdem kann von keinem Zustand aus durch eine legale Aktion Zustand 21 erreicht werden.\n",
    "\n",
    "Der Zustand $n$ wird dargestellt als ein 22-Tupel mit einer $1$ an Stelle $n$ und sonst nur Nullen. So kann mit $s \\cdot P$ die Wahrscheinlichkeit für jeden Zustandsübergang von $s$ nach $s'$ erhalten werden.\n",
    "\n",
    "Die Matrix $P$ ist also wieder eine $22\\times 22$ Matrix."
   ]
  },
  {
   "cell_type": "markdown",
   "metadata": {},
   "source": [
    "Betrachten wir den Zustand $s = n$, dann sind mit der gegebenen Policy $A_t = 2$ nur die Folgezustände $n-3$, $n-4$ und $n-5$ möglich, außer es sind nicht mehr genügend Stäbchen vorhanden. Die drei Möglicheiten sind dabei alle gleich wahrscheinlich.\n",
    "\n",
    "Also ergibt sich folgende Matrix:\n",
    "$$\n",
    "P = \\left(\n",
    "\\begin{array}{cccccccccccccccccccccc}\n",
    " 1 & 0 & 0 & 0 & 0 & 0 & 0 & 0 & 0 & 0 & 0 & 0 & 0 & 0 & 0 & 0 & 0 & 0 & 0 & 0 & 0 & 0 & 0 \\\\ % 0\n",
    " 1 & 0 & 0 & 0 & 0 & 0 & 0 & 0 & 0 & 0 & 0 & 0 & 0 & 0 & 0 & 0 & 0 & 0 & 0 & 0 & 0 & 0 & 0 \\\\ % 1\n",
    " 1 & 0 & 0 & 0 & 0 & 0 & 0 & 0 & 0 & 0 & 0 & 0 & 0 & 0 & 0 & 0 & 0 & 0 & 0 & 0 & 0 & 0 & 0 \\\\ % 2\n",
    " 1 & 0 & 0 & 0 & 0 & 0 & 0 & 0 & 0 & 0 & 0 & 0 & 0 & 0 & 0 & 0 & 0 & 0 & 0 & 0 & 0 & 0 & 0 \\\\ % 3\n",
    " \\frac{1}{2} & \\frac{1}{2} & 0 & 0 & 0 & 0 & 0 & 0 & 0 & 0 & 0 & 0 & 0 & 0 & 0 & 0 & 0 & 0 & 0 & 0 & 0 & 0 & 0 \\\\ % 4\n",
    " \\frac{1}{3} & \\frac{1}{3} & \\frac{1}{3} & 0 & 0 & 0 & 0 & 0 & 0 & 0 & 0 & 0 & 0 & 0 & 0 & 0 & 0 & 0 & 0 & 0 & 0 & 0 & 0 \\\\ % 5\n",
    " 0 & \\frac{1}{3} & \\frac{1}{3} & \\frac{1}{3} & 0 & 0 & 0 & 0 & 0 & 0 & 0 & 0 & 0 & 0 & 0 & 0 & 0 & 0 & 0 & 0 & 0 & 0 & 0 \\\\ % 6\n",
    " 0 & 0 & \\frac{1}{3} & \\frac{1}{3} & \\frac{1}{3} & 0 & 0 & 0 & 0 & 0 & 0 & 0 & 0 & 0 & 0 & 0 & 0 & 0 & 0 & 0 & 0 & 0 & 0 \\\\ % 7\n",
    " 0 & 0 & 0 & \\frac{1}{3} & \\frac{1}{3} & \\frac{1}{3} & 0 & 0 & 0 & 0 & 0 & 0 & 0 & 0 & 0 & 0 & 0 & 0 & 0 & 0 & 0 & 0 & 0 \\\\ % 8\n",
    " 0 & 0 & 0 & 0 & \\frac{1}{3} & \\frac{1}{3} & \\frac{1}{3} & 0 & 0 & 0 & 0 & 0 & 0 & 0 & 0 & 0 & 0 & 0 & 0 & 0 & 0 & 0 & 0 \\\\ % 9\n",
    " 0 & 0 & 0 & 0 & 0 & \\frac{1}{3} & \\frac{1}{3} & \\frac{1}{3} & 0 & 0 & 0 & 0 & 0 & 0 & 0 & 0 & 0 & 0 & 0 & 0 & 0 & 0 & 0 \\\\ % 10\n",
    " 0 & 0 & 0 & 0 & 0 & 0 & \\frac{1}{3} & \\frac{1}{3} & \\frac{1}{3} & 0 & 0 & 0 & 0 & 0 & 0 & 0 & 0 & 0 & 0 & 0 & 0 & 0 & 0 \\\\ % 11\n",
    " 0 & 0 & 0 & 0 & 0 & 0 & 0 & \\frac{1}{3} & \\frac{1}{3} & \\frac{1}{3} & 0 & 0 & 0 & 0 & 0 & 0 & 0 & 0 & 0 & 0 & 0 & 0 & 0 \\\\ % 12\n",
    " 0 & 0 & 0 & 0 & 0 & 0 & 0 & 0 & \\frac{1}{3} & \\frac{1}{3} & \\frac{1}{3} & 0 & 0 & 0 & 0 & 0 & 0 & 0 & 0 & 0 & 0 & 0 & 0 \\\\ % 13\n",
    " 0 & 0 & 0 & 0 & 0 & 0 & 0 & 0 & 0 & \\frac{1}{3} & \\frac{1}{3} & \\frac{1}{3} & 0 & 0 & 0 & 0 & 0 & 0 & 0 & 0 & 0 & 0 & 0 \\\\ % 14\n",
    " 0 & 0 & 0 & 0 & 0 & 0 & 0 & 0 & 0 & 0 & \\frac{1}{3} & \\frac{1}{3} & \\frac{1}{3} & 0 & 0 & 0 & 0 & 0 & 0 & 0 & 0 & 0 & 0 \\\\ % 15\n",
    " 0 & 0 & 0 & 0 & 0 & 0 & 0 & 0 & 0 & 0 & 0 & \\frac{1}{3} & \\frac{1}{3} & \\frac{1}{3} & 0 & 0 & 0 & 0 & 0 & 0 & 0 & 0 & 0 \\\\ % 16\n",
    " 0 & 0 & 0 & 0 & 0 & 0 & 0 & 0 & 0 & 0 & 0 & 0 & \\frac{1}{3} & \\frac{1}{3} & \\frac{1}{3} & 0 & 0 & 0 & 0 & 0 & 0 & 0 & 0 \\\\ % 17\n",
    " 0 & 0 & 0 & 0 & 0 & 0 & 0 & 0 & 0 & 0 & 0 & 0 & 0 & \\frac{1}{3} & \\frac{1}{3} & \\frac{1}{3} & 0 & 0 & 0 & 0 & 0 & 0 & 0 \\\\ % 18\n",
    " 0 & 0 & 0 & 0 & 0 & 0 & 0 & 0 & 0 & 0 & 0 & 0 & 0 & 0 & \\frac{1}{3} & \\frac{1}{3} & \\frac{1}{3} & 0 & 0 & 0 & 0 & 0 & 0 \\\\ % 19\n",
    " 0 & 0 & 0 & 0 & 0 & 0 & 0 & 0 & 0 & 0 & 0 & 0 & 0 & 0 & 0 & \\frac{1}{3} & \\frac{1}{3} & \\frac{1}{3} & 0 & 0 & 0 & 0 & 0 \\\\ % 20\n",
    " 0 & 0 & 0 & 0 & 0 & 0 & 0 & 0 & 0 & 0 & 0 & 0 & 0 & 0 & 0 & 0 & \\frac{1}{3} & \\frac{1}{3} & \\frac{1}{3} & 0 & 0 & 0 & 0 \\\\ % 21\n",
    " 0 & 0 & 0 & 0 & 0 & 0 & 0 & 0 & 0 & 0 & 0 & 0 & 0 & 0 & 0 & 0 & 0 & \\frac{1}{3} & \\frac{1}{3} & \\frac{1}{3} & 0 & 0 & 0 \\\\ % 22\n",
    "\\end{array}\n",
    "\\right)\n",
    "$$"
   ]
  },
  {
   "cell_type": "markdown",
   "metadata": {},
   "source": [
    "Besonders sind hier die Fälle $0$ bis $4$, die abweichende Wahrscheinlichkeiten beinhalten. Dazu hier die Erklärung:\n",
    "- In Zustand 4 nimmt der Agent zuerst 2 Stäbchen. Es bleiben also noch 2. Spieler 2 nimmt dann mit gleicher Wahrscheinlichkeit 1 oder 2 Stäbchen, da drei nicht mehr möglich sind. Somit ergibt sich die Wahrscheinlichkeit von jeweils $\\frac{1}{2}$ für die Übergänge in Zustand $0$ bzw. $1$.\n",
    "\n",
    "- In Zustand 3 nimmt der Agent 2 Stäbchen, sodass Spieler 2 nur die Option bleibt das letzte zu nehmen, sodass ein Übergang zu Zustand $0$ garantiert ist.\n",
    "- In Zustand 2 nimmt der Agent 2 Stäbchen und verliert damit sofort (erreicht Zustand $0$).\n",
    "- In Zustand 1 kann der Agent keine 2 Stäbchen nehmen, nimmt also nur das eine verbleibende und verliert damit sofort (erreicht Zustand $0$).\n",
    "\n",
    "Außerdem ist in der Matrix ersichtlich, dass die Zustände $21$, $20$ und $19$ nicht Folgezustände anderer sind. Die vorletzten zwei Zeilen (19 und 20) sind also für die gegebenen Strategien eigentlich nie relevant."
   ]
  },
  {
   "cell_type": "markdown",
   "metadata": {},
   "source": [
    "## b)"
   ]
  },
  {
   "cell_type": "markdown",
   "metadata": {},
   "source": [
    "Wir wollen prüfen ob der Bellman-Erwartungs-Operator $T^\\pi$ die Voraussetzungen für den Banachschen Fixpunktsatz erfüllt, also eine Kontraktion ist.\n",
    "\n",
    "Dazu betrachten wir den metrischen Raum $\\mathbb{R}^{22}$ und definieren $T^\\pi(v) := R^\\pi + \\gamma P^\\pi v$.\n",
    "Wir gehen davon aus, dass alle $v$ in einer kompakten Teilmenge von $\\mathbb{R}^{22}$ liegen, ein Zustand also nur begrenzt große Wertung hat.\n",
    "\n",
    "Nun wollen prüfen, ob $T^\\pi$ eine $\\gamma$-Kontraktion ist.\n",
    "\n",
    "### Beweis:\n",
    "\n",
    "- $R^\\pi \\in \\mathbb{R}^{22}$ ist ein konstanter Vektor.\n",
    "- $P^\\pi$ ist wie in a) definiert die Zustands-Übergangsmatrix.\n",
    "- $\\gamma \\in [0,1]$\n",
    "\n",
    "Seien $a,b \\in \\mathbb{R}^{22}$ mit $d(a,b) = \\sqrt{(b_1 - a_1)^2 + ... (b_{22}-a_{22})^2}$.\n",
    "\n",
    "Zu zeigen ist nun also dass $d(T^\\pi(a), T^\\pi(b)) \\leq \\gamma \\, d(a,b)$ gilt.\n",
    "\n",
    "Einsetzen Definition von $T^\\pi$ ergibt:\n",
    "$$\n",
    "\\begin{align}\n",
    "d(T^\\pi(a), T^\\pi(b)) &= \\big| T^\\pi(b)-T^\\pi(a) \\big|                                          \\\\\n",
    "                      &= \\big| ( R^\\pi + \\gamma P^\\pi b )  -  ( R^\\pi + \\gamma P^\\pi a ) \\big|  \\\\\n",
    "                      &= \\big|  R^\\pi - R^\\pi  +  \\gamma P^\\pi b - \\gamma P^\\pi a  \\big|        \\\\\n",
    "                      &= \\big|  \\gamma (P^\\pi b - P^\\pi a)  \\big|                               \\\\\n",
    "                      &\\overset{\\gamma \\, \\geq \\, 0}{=} \\gamma \\, \\big| P^\\pi b - P^\\pi a \\big| \\\\\n",
    "                      &= \\gamma \\, \\big| P^\\pi (b - a) \\big|                                    \\\\\n",
    "                      &\\not\\leq \\gamma \\, |b-a|                                                 \\\\\n",
    "                      &= \\gamma \\, d(a,b)\n",
    "\\end{align}\n",
    "$$\n",
    "\n",
    "Diese Ungleichung gilt nicht. Betrachte dazu folgendes Gegenbeispiel:\n"
   ]
  },
  {
   "cell_type": "markdown",
   "metadata": {},
   "source": [
    "Sei $a = 0 \\in \\mathbb{R}^{22}$ der Nullvektor und $e_1 = (1,0,0,...,0) \\in \\mathbb{R}^{22}$ der Einheitsvektor.\n",
    "\n",
    "Beide Vektoren stellen denkbare Bewertungsfunktionen $V$ dar.\n",
    "\n",
    "Dann gilt aber $P^\\pi\\,(e_1-a) = P^\\pi e_1 = (1,1,1,1,\\frac{1}{2}, \\frac{1}{3}, 0,0, ...,0)$. Damit gilt offensichtlich $|P^\\pi e_1| > |e_1|$, sodass die Ungleichung widerlegt ist.\n",
    "\n",
    "Daher ist die Funktion $T^\\pi$ **keine** Kontraktion."
   ]
  }
 ],
 "metadata": {
  "kernelspec": {
   "display_name": "Python 3",
   "language": "python",
   "name": "python3"
  },
  "language_info": {
   "codemirror_mode": {
    "name": "ipython",
    "version": 3
   },
   "file_extension": ".py",
   "mimetype": "text/x-python",
   "name": "python",
   "nbconvert_exporter": "python",
   "pygments_lexer": "ipython3",
   "version": "3.8.5"
  }
 },
 "nbformat": 4,
 "nbformat_minor": 2
}
