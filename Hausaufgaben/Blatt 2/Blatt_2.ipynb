{
 "metadata": {
  "language_info": {
   "codemirror_mode": {
    "name": "ipython",
    "version": 3
   },
   "file_extension": ".py",
   "mimetype": "text/x-python",
   "name": "python",
   "nbconvert_exporter": "python",
   "pygments_lexer": "ipython3",
   "version": "3.7.0-final"
  },
  "orig_nbformat": 2,
  "kernelspec": {
   "name": "python37064bit0abb7b7769c2407694c8bddfdec1999b",
   "display_name": "Python 3.7.0 64-bit"
  }
 },
 "nbformat": 4,
 "nbformat_minor": 2,
 "cells": [
  {
   "cell_type": "markdown",
   "metadata": {},
   "source": [
    "# Aufgabe 1: Rucksackproblem"
   ]
  },
  {
   "cell_type": "code",
   "execution_count": 5,
   "metadata": {},
   "outputs": [],
   "source": [
    "def solve_backpack(weight_list, value_list, max_i, max_weight):\n",
    "    \"\"\"\n",
    "    optimize the value given a maximum weight by choosing several items from the lists\n",
    "    inputs:\n",
    "        weight_list - (list) - list of positive floats representing weights\n",
    "        value_list - (list) - list of positive floats representing value\n",
    "            both lists must have equal length\n",
    "    returns:\n",
    "        (float) - maximum value of the chosen items\n",
    "        (list) of ints - indices of the chosen items\n",
    "    \"\"\"\n",
    "    if max_i == 0:\n",
    "        return 0, []\n",
    "    if max_weight <= 0:\n",
    "        return -1\n",
    "    vi, wi = value_list[max_i], weight_list[max_i]\n",
    "    # calculate sub-problems:\n",
    "    # don't choose the current item\n",
    "    value_2, items_2 = solve_backpack(weight_list, value_list, max_i-1, max_weight)\n",
    "    if wi > max_weight:\n",
    "        return value_2, items_2\n",
    "    # choose the current item:\n",
    "    value_1, items_1 = solve_backpack(weight_list, value_list, max_i-1, max_weight-wi)\n",
    "    value_1 += vi\n",
    "    if value_1 > value_2:\n",
    "        return value_1, items_1+[max_i]\n",
    "    return value_2, items_2"
   ]
  },
  {
   "cell_type": "code",
   "execution_count": 8,
   "metadata": {
    "tags": []
   },
   "outputs": [
    {
     "output_type": "stream",
     "name": "stdout",
     "text": "(19, [1, 2])\n"
    }
   ],
   "source": [
    "# Vorlesungsbeispiel:\n",
    "weigths = [1, 3, 5, 4]\n",
    "values = [15, 9, 10, 5]\n",
    "print(solve_backpack(weigths, values, len(weigths)-1, 8))"
   ]
  },
  {
   "cell_type": "code",
   "execution_count": 11,
   "metadata": {
    "tags": []
   },
   "outputs": [
    {
     "output_type": "stream",
     "name": "stdout",
     "text": "(120, [1, 2, 3])\n"
    }
   ],
   "source": [
    "weigths = [5, 4, 6, 3]\n",
    "values = [10, 40, 30, 50]\n",
    "print(solve_backpack(weigths, values, len(weigths)-1, 15))"
   ]
  }
 ]
}