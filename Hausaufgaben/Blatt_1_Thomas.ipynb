{
 "cells": [
  {
   "cell_type": "markdown",
   "metadata": {},
   "source": [
    "# Übungsblatt 1\n",
    "## Aufgabe 1\n",
    "### Käsekästchen\n",
    "#### Zustandsraum\n",
    "Das 6×4-Raster für Käsekästchen muss zerlegt werden in Kanten zwischen den Feldern und die Felder selbst. Eine Kante kann gezogen oder nicht gezogen sein, ein Feld kann leer oder von einem der beiden Spieler gewonnen sein.\n",
    "\n",
    "Die Felder F lassen sich wie üblich als zweidimensionale Koordinaten darstellen.\n",
    "Die Kanten K lassen sich ebenfalls mit zweidimensionalen Koordinaten nach diesem Schema darstellen:\n",
    "```\n",
    " 0011223344556\n",
    "0 - - - - - -\n",
    "1| | | | | | |\n",
    "2 - - - - - -\n",
    "3| | | | | | |\n",
    "4 - - - - - -\n",
    "5| | | | | | |\n",
    "6 - - - - - -\n",
    "7| | | | | | |\n",
    "8 - - - - - -\n",
    "```\n",
    "\n",
    "Zwischen K und F besteht eine Abhängigkeit: Wenn 1 oder 2 Felder von gezogenen Kanten eingeschlossen sind, bei 2 Feldern ohne Trennung voneinander, so müssen diese Felder genau einem der beiden Spieler zugeordnet sein. Alle anderen Felder müssen leer sein.\n",
    "\n",
    "#### Aktionsraum\n",
    "Es gibt eine Aktion genau für jede Kante im Feld.\n",
    "\n",
    "### Vier gewinnt\n",
    "#### Zustandsraum\n",
    "#### Aktionsraum\n",
    "\n",
    "### Tic Tac Toe\n",
    "#### Zustandsraum\n",
    "Das Spiel hat 3×3 Felder, von denen jedes in einem von 3 Zuständen sein kann: leer, besetzt von Spieler 1 und besetzt von Spieler 2. Hierbei muss die Anzahl der von Spieler 1 besetzten Felder gleich oder um 1 größer sein als die Anzahl der von Spieler 2 besetzten Felder.\n",
    "Weiterhin kann maximal eine Gerade durch das Feld (wenn wir das Spielfeld als F_3^2 betrachten) vollständig von einem Spieler besetzt sein.\n",
    "#### Aktionsraum\n",
    "Der Aktionsraum beinhaltet eine Aktion für jedes Feld."
   ]
  },
  {
   "cell_type": "markdown",
   "metadata": {},
   "source": [
    "## Aufgabe 2\n",
    "### Käsekästchen\n",
    "#### Zustandsraum\n",
    "Platzsparend lässt sich der Zustandsraum darstellen als 3 Arrays.\n",
    "Der erste Array enthält alle horizontalen Kanten, hat also Dimension 6×5=30,\n",
    "der zweite Array enthält die vertikalen Kanten, hat also Dimension 7×4=28\n",
    "und der dritte Array speichert die erzielten Punkte, muss also Dimension 6×4=24 haben.\n",
    "\n",
    "Die Einträge im ersten und zweiten Array sind 0, wenn die entsprechende Kante noch nicht gezeichnet wurde und 1, wenn sie gezeichnet wurde.\n",
    "Die Einträge im dritten Array sind 0, wenn auf dem entsprechenden Feld noch kein Punkt erzeugt wurde, 1 wenn der erste Spieler einen Punkt auf diesem Feld erzielt hat und -1 wenn der zweite Spieler einen Punkt auf diesem Feld erzielt hat."
   ]
  },
  {
   "cell_type": "code",
   "execution_count": 2,
   "metadata": {},
   "outputs": [],
   "source": [
    "def freshDotsNLines ():\n",
    "    return ([0]*30, [0]*28, [0]*24)"
   ]
  },
  {
   "cell_type": "markdown",
   "metadata": {},
   "source": [
    "#### Aktionsraum\n",
    "Mögliche Aktionen sind das Zeichnen einer horizontalen oder vertikalen Kante, die nicht bereits gezeichnet wurde. Eine Aktion wird dann dargestellt als ein Tupel. Die erste Komponente ist 0 für eine horizontale und 1 für eine vertikale Kante, die zweite Komponente ist der Index in den zugehörigen Array von Kanten. Kanten, die bereits gezeichnet wurden, müssen ausgefiltert werden."
   ]
  },
  {
   "cell_type": "code",
   "execution_count": 3,
   "metadata": {},
   "outputs": [],
   "source": [
    "def dotsNLinesActions (horizontals, verticals):\n",
    "    actions = []\n",
    "    for i in range(30):\n",
    "        if horizontals[i] != 1:\n",
    "            actions.append([(0,i)])\n",
    "    for i in range(28):\n",
    "        if verticals[i] != 1:\n",
    "            actions.append([(1,i)])\n",
    "    return actions"
   ]
  },
  {
   "cell_type": "markdown",
   "metadata": {},
   "source": [
    "### Vier gewinnt\n",
    "#### Zustandsraum"
   ]
  },
  {
   "cell_type": "code",
   "execution_count": null,
   "metadata": {},
   "outputs": [],
   "source": []
  },
  {
   "cell_type": "markdown",
   "metadata": {},
   "source": [
    "#### Aktionsraum"
   ]
  },
  {
   "cell_type": "code",
   "execution_count": null,
   "metadata": {},
   "outputs": [],
   "source": []
  },
  {
   "cell_type": "markdown",
   "metadata": {},
   "source": [
    "### Tic Tac Toe\n",
    "#### Zustandsraum\n",
    "Als Zustandsraum reicht ein Array mit einem Eintrag für jedes Feld. Wenn ein Feld leer ist, ist der entsprechende Eintrag 0, für Spieler 1 ist der Eintrag 1 und für Spieler 2 ist der Eintrag -1."
   ]
  },
  {
   "cell_type": "code",
   "execution_count": null,
   "metadata": {},
   "outputs": [],
   "source": [
    "def freshTicTacToe ():\n",
    "    [0]*9"
   ]
  },
  {
   "cell_type": "markdown",
   "metadata": {},
   "source": [
    "#### Aktionsraum\n",
    "Sammle alle unbesetzten Felder, um die möglichen Aktionen zu bestimmen."
   ]
  },
  {
   "cell_type": "code",
   "execution_count": null,
   "metadata": {},
   "outputs": [],
   "source": [
    "def ticTacToeActions (field):\n",
    "    actions = []\n",
    "    for i in range(9):\n",
    "        if field[i] == 0:\n",
    "            actions.append([i])\n",
    "    return actions"
   ]
  }
 ],
 "metadata": {
  "kernelspec": {
   "display_name": "Python 3",
   "language": "python",
   "name": "python3"
  },
  "language_info": {
   "codemirror_mode": {
    "name": "ipython",
    "version": 3
   },
   "file_extension": ".py",
   "mimetype": "text/x-python",
   "name": "python",
   "nbconvert_exporter": "python",
   "pygments_lexer": "ipython3",
   "version": "3.8.5"
  }
 },
 "nbformat": 4,
 "nbformat_minor": 4
}
