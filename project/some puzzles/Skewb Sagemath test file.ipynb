{
 "cells": [
  {
   "cell_type": "code",
   "execution_count": 11,
   "metadata": {},
   "outputs": [],
   "source": [
    "t = [[4, 15, 9], [0, 2, 1], [8, 17, 10], [16, 14, 3]]\n",
    "T = [[9, 15, 4], [1, 2, 0], [10, 17, 8], [3, 14, 16]]\n",
    "r = [[0, 1, 27], [10, 26, 6], [3, 12, 22], [5, 11, 25]]\n",
    "R = [[27, 1, 0], [6, 26, 10], [22, 12, 3], [25, 11, 5]]\n",
    "g = [[2, 0, 27], [8, 22, 19], [16, 6, 24], [7, 23, 18]]\n",
    "G = [[27, 0, 2], [19, 22, 8], [24, 6, 16], [18, 23, 7]]\n",
    "w = [[13, 20, 21], [1, 2, 27], [17, 24, 12], [14, 19, 26]]\n",
    "W = [[21, 20, 13], [27, 2, 1], [12, 24, 17], [26, 19, 14]]\n",
    "\n",
    "Perms = [t,T,r,R,g,G,w,W]"
   ]
  },
  {
   "cell_type": "code",
   "execution_count": 23,
   "metadata": {},
   "outputs": [],
   "source": [
    "f = [[20, 18], [4, 7], [16, 2], [27, 23], [17, 3]]\n",
    "r = [[2, 9], [7, 0], [18, 26], [1, 8], [23, 21]]\n",
    "b = [[26, 24], [21, 29], [9, 6], [0, 12], [11, 10]]\n",
    "l = [[16, 6], [12, 4], [15, 5], [27, 29], [20, 24]]\n",
    "\n",
    "Perms = [f,r,b,l]"
   ]
  },
  {
   "cell_type": "code",
   "execution_count": 6,
   "metadata": {},
   "outputs": [],
   "source": [
    "wbr  = [[0, 8, 7], [24, 25, 26], [4, 17, 10], [6, 16, 9], [5, 15, 11]]\n",
    "wbr2 = [[7, 8, 0], [26, 25, 24], [10, 17, 4], [9, 16, 6], [11, 15, 5]]\n",
    "ryg  = [[13, 12, 14], [26, 29, 27], [16, 23, 11], [10, 15, 22], [9, 17, 21]]\n",
    "ryg2 = [[14, 12, 13], [27, 29, 26], [11, 23, 16], [22, 15, 10], [21, 17, 9]]\n",
    "wgo  = [[1, 2, 3], [24, 27, 28], [11, 21, 4], [9, 22, 5], [10, 23, 6]]\n",
    "wgo2 = [[3, 2, 1], [28, 27, 24], [4, 21, 11], [5, 22, 9], [6, 23, 10]]\n",
    "oyb  = [[20, 18, 19], [25, 28, 29], [6, 21, 15], [5, 23, 17], [4, 22, 16]]\n",
    "oyb2 = [[19, 18, 20], [29, 28, 25], [15, 21, 6], [17, 23, 5], [16, 22, 4]]\n",
    "\n",
    "Perms = [wbr, wbr2, ryg, ryg2, wgo, wgo2, oyb, oyb2]"
   ]
  },
  {
   "cell_type": "code",
   "execution_count": 17,
   "metadata": {},
   "outputs": [],
   "source": [
    "new_perms = []\n",
    "for k, perm in enumerate(Perms):\n",
    "#     if k%2 == 0:\n",
    "        new_perm = []\n",
    "        for cycle in perm:\n",
    "            for i, elem in enumerate(cycle):\n",
    "                if elem==0:\n",
    "                    cycle[i] = 28\n",
    "            new_perm.append(tuple(cycle))\n",
    "        new_perms.append(new_perm)"
   ]
  },
  {
   "cell_type": "code",
   "execution_count": 18,
   "metadata": {},
   "outputs": [
    {
     "data": {
      "text/plain": [
       "[[(4, 15, 9), (30, 2, 1), (8, 17, 10), (16, 14, 3)],\n",
       " [(9, 15, 4), (1, 2, 30), (10, 17, 8), (3, 14, 16)],\n",
       " [(30, 1, 27), (10, 26, 6), (3, 12, 22), (5, 11, 25)],\n",
       " [(27, 1, 30), (6, 26, 10), (22, 12, 3), (25, 11, 5)],\n",
       " [(2, 30, 27), (8, 22, 19), (16, 6, 24), (7, 23, 18)],\n",
       " [(27, 30, 2), (19, 22, 8), (24, 6, 16), (18, 23, 7)],\n",
       " [(13, 20, 21), (1, 2, 27), (17, 24, 12), (14, 19, 26)],\n",
       " [(21, 20, 13), (27, 2, 1), (12, 24, 17), (26, 19, 14)]]"
      ]
     },
     "execution_count": 18,
     "metadata": {},
     "output_type": "execute_result"
    }
   ],
   "source": [
    "new_perms"
   ]
  },
  {
   "cell_type": "code",
   "execution_count": 19,
   "metadata": {},
   "outputs": [],
   "source": [
    "S = PermutationGroup(new_perms)"
   ]
  },
  {
   "cell_type": "code",
   "execution_count": 20,
   "metadata": {},
   "outputs": [
    {
     "data": {
      "text/plain": [
       "3732480"
      ]
     },
     "execution_count": 20,
     "metadata": {},
     "output_type": "execute_result"
    }
   ],
   "source": [
    "S.order()"
   ]
  }
 ],
 "metadata": {
  "kernelspec": {
   "display_name": "SageMath 9.0",
   "language": "sage",
   "name": "sagemath"
  },
  "language_info": {
   "codemirror_mode": {
    "name": "ipython",
    "version": 3
   },
   "file_extension": ".py",
   "mimetype": "text/x-python",
   "name": "python",
   "nbconvert_exporter": "python",
   "pygments_lexer": "ipython3",
   "version": "3.7.3"
  }
 },
 "nbformat": 4,
 "nbformat_minor": 2
}
