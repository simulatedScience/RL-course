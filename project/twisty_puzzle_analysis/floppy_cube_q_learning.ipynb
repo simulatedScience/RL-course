{
 "metadata": {
  "language_info": {
   "codemirror_mode": {
    "name": "ipython",
    "version": 3
   },
   "file_extension": ".py",
   "mimetype": "text/x-python",
   "name": "python",
   "nbconvert_exporter": "python",
   "pygments_lexer": "ipython3",
   "version": "3.8.5-final"
  },
  "orig_nbformat": 2,
  "kernelspec": {
   "name": "python38564bit40039fc9f5864e99b33450205d4ec4f3",
   "display_name": "Python 3.8.5 64-bit"
  }
 },
 "nbformat": 4,
 "nbformat_minor": 2,
 "cells": [
  {
   "cell_type": "markdown",
   "metadata": {},
   "source": [
    "# Q_Learning for 3x3 Floppy Cube"
   ]
  },
  {
   "cell_type": "code",
   "execution_count": 1,
   "metadata": {},
   "outputs": [],
   "source": [
    "from Q_learning import *"
   ]
  },
  {
   "cell_type": "code",
   "execution_count": 48,
   "metadata": {
    "tags": []
   },
   "outputs": [
    {
     "output_type": "stream",
     "name": "stdout",
     "text": "final exploration rate: 0.36732772934619257\nWall time: 450 ms\n"
    }
   ],
   "source": [
    "actions = {\"f\" : [[20, 18], [4, 7], [16, 2], [27, 23], [17, 3]],\n",
    "           \"r\" : [[2, 9], [7, 0], [18, 26], [1, 8], [23, 21]],\n",
    "           \"b\" : [[26, 24], [21, 29], [9, 6], [0, 12], [11, 10]],\n",
    "           \"l\" : [[16, 6], [12, 4], [15, 5], [27, 29], [20, 24]]}\n",
    "solved_state = [0,0,0,0,0,0,0,1,1,1,0,1,1,0,1,1,1,1,2,2,2,3,3,3,4,4,4,5,5,5]\n",
    "reward_dict={\"solved\":100,\n",
    "            \"timeout\":-1,\n",
    "            \"move\":-0.02}\n",
    "\n",
    "%time Q_table, N_table, games = train_q_learning(\\\n",
    "    actions,\\\n",
    "    solved_state,\\\n",
    "    learning_rate=0.05,\\\n",
    "    discount_factor=0.99,\\\n",
    "    base_exploration_rate=0.999,\\\n",
    "    max_moves=100,\\\n",
    "    num_episodes=1000,\\\n",
    "    reward_dict=reward_dict)"
   ]
  },
  {
   "cell_type": "code",
   "execution_count": 49,
   "metadata": {
    "tags": []
   },
   "outputs": [
    {
     "output_type": "stream",
     "name": "stdout",
     "text": "2 102\n"
    }
   ],
   "source": [
    "print(len(games[-1]), len(games[-1][-1]))"
   ]
  },
  {
   "cell_type": "code",
   "execution_count": 50,
   "metadata": {},
   "outputs": [],
   "source": [
    "from twisty_puzzle_model import scramble, perform_action"
   ]
  },
  {
   "cell_type": "code",
   "execution_count": 51,
   "metadata": {},
   "outputs": [],
   "source": [
    "def print_scramble(scramble):\n",
    "    print_str = \"\"\n",
    "    for move in scramble:\n",
    "        print_str += move + \" \"\n",
    "    print(print_str[:-1])"
   ]
  },
  {
   "cell_type": "code",
   "execution_count": 52,
   "metadata": {
    "tags": []
   },
   "outputs": [
    {
     "output_type": "stream",
     "name": "stdout",
     "text": "l b\n102 solved? False\n\nr b\n12 solved? True\n\nf f\n2 solved? True\nTrue (0, 0, 0, 0, 0, 0, 0, 1, 1, 1, 0, 1, 1, 0, 1, 1, 1, 1, 2, 2, 2, 3, 3, 3, 4, 4, 4, 5, 5, 5)\nTrue (0, 0, 0, 0, 0, 0, 0, 1, 1, 1, 0, 1, 1, 0, 1, 1, 1, 1, 2, 2, 2, 3, 3, 3, 4, 4, 4, 5, 5, 5)\n(0, 0, 0, 0, 0, 0, 0, 1, 1, 1, 0, 1, 1, 0, 1, 1, 1, 1, 2, 2, 2, 3, 3, 3, 4, 4, 4, 5, 5, 5)\n\nl l\n2 solved? True\nTrue (0, 0, 0, 0, 0, 0, 0, 1, 1, 1, 0, 1, 1, 0, 1, 1, 1, 1, 2, 2, 2, 3, 3, 3, 4, 4, 4, 5, 5, 5)\nTrue (0, 0, 0, 0, 0, 0, 0, 1, 1, 1, 0, 1, 1, 0, 1, 1, 1, 1, 2, 2, 2, 3, 3, 3, 4, 4, 4, 5, 5, 5)\n(0, 0, 0, 0, 0, 0, 0, 1, 1, 1, 0, 1, 1, 0, 1, 1, 1, 1, 2, 2, 2, 3, 3, 3, 4, 4, 4, 5, 5, 5)\n\nr b\n102 solved? False\n\nr f\n102 solved? False\n\nl f\n102 solved? False\n\nb b\n2 solved? True\nTrue (0, 0, 0, 0, 0, 0, 0, 1, 1, 1, 0, 1, 1, 0, 1, 1, 1, 1, 2, 2, 2, 3, 3, 3, 4, 4, 4, 5, 5, 5)\nTrue (0, 0, 0, 0, 0, 0, 0, 1, 1, 1, 0, 1, 1, 0, 1, 1, 1, 1, 2, 2, 2, 3, 3, 3, 4, 4, 4, 5, 5, 5)\n(0, 0, 0, 0, 0, 0, 0, 1, 1, 1, 0, 1, 1, 0, 1, 1, 1, 1, 2, 2, 2, 3, 3, 3, 4, 4, 4, 5, 5, 5)\n\nr r\n2 solved? True\nTrue (0, 0, 0, 0, 0, 0, 0, 1, 1, 1, 0, 1, 1, 0, 1, 1, 1, 1, 2, 2, 2, 3, 3, 3, 4, 4, 4, 5, 5, 5)\nTrue (0, 0, 0, 0, 0, 0, 0, 1, 1, 1, 0, 1, 1, 0, 1, 1, 1, 1, 2, 2, 2, 3, 3, 3, 4, 4, 4, 5, 5, 5)\n(0, 0, 0, 0, 0, 0, 0, 1, 1, 1, 0, 1, 1, 0, 1, 1, 1, 1, 2, 2, 2, 3, 3, 3, 4, 4, 4, 5, 5, 5)\n\nf l\n102 solved? False\n\n"
    }
   ],
   "source": [
    "for test_scramble, state_hist in games[990:1000]:\n",
    "    print_scramble(test_scramble)\n",
    "    print(len(state_hist), \"solved?\", tuple(solved_state) == state_hist[-1])\n",
    "    if len(state_hist) < 10:\n",
    "        for state in state_hist:\n",
    "            print(state==tuple(solved_state), state)\n",
    "        print(tuple(solved_state))\n",
    "    print()"
   ]
  },
  {
   "cell_type": "code",
   "execution_count": 62,
   "metadata": {
    "tags": []
   },
   "outputs": [
    {
     "output_type": "stream",
     "name": "stdout",
     "text": "[1, 0, 0, 0, 0, 0, 1, 1, 1, 0, 1, 0, 0, 0, 1, 1, 1, 1, 2, 2, 2, 5, 3, 3, 4, 4, 4, 5, 5, 3]\nb\ntimeout\n[1, 1, 0, 0, 0, 0, 1, 1, 0, 0, 1, 0, 0, 0, 1, 1, 1, 1, 4, 2, 2, 3, 3, 5, 4, 4, 2, 5, 5, 3]\n[0, 0, 0, 0, 0, 0, 0, 1, 1, 1, 0, 1, 1, 0, 1, 1, 1, 1, 2, 2, 2, 3, 3, 3, 4, 4, 4, 5, 5, 5]\n"
    }
   ],
   "source": [
    "state = deepcopy(solved_state)\n",
    "test_scramble = scramble(state, actions, max_moves=1)\n",
    "print(state)\n",
    "print_scramble(test_scramble)\n",
    "n = 0\n",
    "action_hist = \"\"\n",
    "while n < 500:\n",
    "    action = choose_Q_action(tuple(state), actions, Q_table, exploration_rate=0)\n",
    "    # print(f\"action {action} had value {Q_table[(tuple(state), action)]}\" )\n",
    "    perform_action(state, actions[action])\n",
    "    n+=1\n",
    "    action_hist += action + \" \"\n",
    "    status = puzzle_solved(state, solved_state, n, 100)\n",
    "    if status == \"timeout\":\n",
    "        print(\"timeout\")\n",
    "        break\n",
    "    if status == \"solved\":\n",
    "        print(\"solved\")\n",
    "        break\n",
    "print(state)\n",
    "print(solved_state)\n",
    "action_hist = action_hist[:-1]"
   ]
  },
  {
   "cell_type": "code",
   "execution_count": 47,
   "metadata": {
    "tags": []
   },
   "outputs": [
    {
     "output_type": "stream",
     "name": "stdout",
     "text": "b\n"
    }
   ],
   "source": [
    "print(action_hist)"
   ]
  },
  {
   "cell_type": "markdown",
   "metadata": {},
   "source": [
    "### import not yet working for twisty puzzles"
   ]
  },
  {
   "cell_type": "code",
   "execution_count": 86,
   "metadata": {},
   "outputs": [],
   "source": [
    "def export_Q_table(Q_table, filename=\"Q_table.txt\"):\n",
    "        \"\"\"\n",
    "        write the given Q-table into a file\n",
    "        \"\"\"\n",
    "        with open(filename, \"w\") as file:\n",
    "            file.write(\"Q_table = {\\n\")\n",
    "            for key, value in Q_table.items():\n",
    "                file.write(str(key) + \":\" + str(value) + \",\\n\")\n",
    "            file.write(\"}\")\n",
    "\n",
    "def import_Q_table(filename=\"Q_table.txt\"):\n",
    "    \"\"\"\n",
    "    import Q_table as dictionary:\n",
    "    keys are state-action pairs as a tuple of a tuple (9 integers: 0/1/2) and an integer (0-8)\n",
    "    values are the corresponding Q-values\n",
    "\n",
    "    Example:\n",
    "        Q_table[((0,0,0,0,1,0,0,0,0),2)] -> 0.3\n",
    "    \"\"\"\n",
    "    Q_table = dict()\n",
    "    with open(filename, \"r\") as file:\n",
    "        for line in file.readlines():\n",
    "            if line == \"Q_table = {\\n\" or line == \"}\":\n",
    "                continue\n",
    "            state_action, value = line[:-2].split(\":\")\n",
    "            state = tuple([int(x.strip(\" \")) for x in state_action[2:-5].split(\",\")])\n",
    "            action = int(state_action[-2])\n",
    "            Q_table[(state, action)] = float(value)\n",
    "    return Q_table"
   ]
  }
 ]
}