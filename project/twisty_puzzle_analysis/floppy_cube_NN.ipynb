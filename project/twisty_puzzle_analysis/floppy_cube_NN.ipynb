{
 "cells": [
  {
   "cell_type": "markdown",
   "metadata": {},
   "source": []
  },
  {
   "cell_type": "code",
   "execution_count": 1,
   "metadata": {},
   "outputs": [],
   "source": [
    "import tensorflow.keras as keras\n",
    "from tensorflow.keras import layers\n",
    "import numpy\n",
    "from itertools import count\n",
    "\n",
    "def action_num (game_object, action):\n",
    "    for i, act in zip(count(), game_object.ACTION_DICT.keys()):\n",
    "        if action == act :\n",
    "            return i\n",
    "\n",
    "def prepare_data (game_object, q_table):\n",
    "    training_table = dict()\n",
    "    output_template = [0 for _ in range(len(game_object.ACTION_DICT))]\n",
    "    for state_action , value in q_table :\n",
    "        (state , action) = state_action\n",
    "        state = state + game_object.SOLVED_STATE\n",
    "        inner = training_table[state] or output_template.copy()\n",
    "        inner[action_num(action)] = value\n",
    "        training_table[state] = inner\n",
    "    return list(training_table.keys()) , list(training_table.values())\n",
    "\n",
    "def import_q_table (filename=\"floppy_q_table.txt\"):\n",
    "    q_table = dict()\n",
    "    with open(filename, \"r\") as file:\n",
    "        for line in file.readlines():\n",
    "            if line == \"Q_table = {\\n\" or line == \"}\":\n",
    "                continue\n",
    "            state_action, value = line[:-2].split(\":\")\n",
    "            state = tuple([int(x.strip(\" \")) for x in state_action[2:-5].split(\",\")])\n",
    "            action = int(state_action[-2])\n",
    "            q_table[(state, action)] = float(value)\n",
    "    return q_table"
   ]
  },
  {
   "cell_type": "code",
   "execution_count": 2,
   "metadata": {},
   "outputs": [],
   "source": [
    "def initilialize_nn (game_object):\n",
    "    actions = game_object.ACTION_DICT\n",
    "    solved_state = game_object.SOLVED_STATE\n",
    "    input_size = len(solved_state)*2\n",
    "    output_size = len(actions)\n",
    "    model = keras.Sequential()\n",
    "    model.add(keras.Input(shape=(input_size)))\n",
    "    model.add(keras.Dense((input_size+output_size)/2))\n",
    "    model.add(keras.Dense(output_size))\n",
    "    \n",
    "    model.compile(optimizer='adam', loss='mean_squared_error')\n",
    "    return model"
   ]
  },
  {
   "cell_type": "code",
   "execution_count": 3,
   "metadata": {},
   "outputs": [],
   "source": [
    "def train_nn (model, samples, labels, epochs=100, batch_size=30):\n",
    "    return model.fit(samples, labels, epochs=epochs, batch_size=batch_size,\n",
    "                     use_multiprocessing=True, verbose=False)"
   ]
  },
  {
   "cell_type": "code",
   "execution_count": 7,
   "metadata": {
    "tags": []
   },
   "outputs": [
    {
     "output_type": "error",
     "ename": "FileNotFoundError",
     "evalue": "[Errno 2] No such file or directory: 'puzzles\\\\floppy_cube\\\\puzzle_definition.xml'",
     "traceback": [
      "\u001b[1;31m---------------------------------------------------------------------------\u001b[0m",
      "\u001b[1;31mFileNotFoundError\u001b[0m                         Traceback (most recent call last)",
      "\u001b[1;32m<ipython-input-7-da6400473fe2>\u001b[0m in \u001b[0;36m<module>\u001b[1;34m\u001b[0m\n\u001b[0;32m      4\u001b[0m \u001b[1;33m\u001b[0m\u001b[0m\n\u001b[0;32m      5\u001b[0m \u001b[0mpuzzle\u001b[0m \u001b[1;33m=\u001b[0m \u001b[0mTwisty_Puzzle\u001b[0m\u001b[1;33m(\u001b[0m\u001b[1;33m)\u001b[0m\u001b[1;33m\u001b[0m\u001b[1;33m\u001b[0m\u001b[0m\n\u001b[1;32m----> 6\u001b[1;33m \u001b[0mpuzzle\u001b[0m\u001b[1;33m.\u001b[0m\u001b[0mload_puzzle\u001b[0m\u001b[1;33m(\u001b[0m\u001b[1;34m\"floppy_cube\"\u001b[0m\u001b[1;33m)\u001b[0m\u001b[1;33m\u001b[0m\u001b[1;33m\u001b[0m\u001b[0m\n\u001b[0m\u001b[0;32m      7\u001b[0m \u001b[1;33m\u001b[0m\u001b[0m\n\u001b[0;32m      8\u001b[0m \u001b[0mq_table\u001b[0m \u001b[1;33m=\u001b[0m \u001b[0mimport_q_table\u001b[0m\u001b[1;33m(\u001b[0m\u001b[1;33m)\u001b[0m\u001b[1;33m\u001b[0m\u001b[1;33m\u001b[0m\u001b[0m\n",
      "\u001b[1;32md:\\Uni\\Uni Potsdam\\Semester 4 (Nebenhörer)\\Reinforcement Learning\\RL-course\\project\\twisty_puzzle_analysis\\gui\\puzzle_class.py\u001b[0m in \u001b[0;36mload_puzzle\u001b[1;34m(self, puzzle_name)\u001b[0m\n\u001b[0;32m    225\u001b[0m         \u001b[0mself\u001b[0m\u001b[1;33m.\u001b[0m\u001b[0mcanvas\u001b[0m \u001b[1;33m=\u001b[0m \u001b[0mcreate_canvas\u001b[0m\u001b[1;33m(\u001b[0m\u001b[1;33m)\u001b[0m\u001b[1;33m\u001b[0m\u001b[1;33m\u001b[0m\u001b[0m\n\u001b[0;32m    226\u001b[0m         \u001b[0mself\u001b[0m\u001b[1;33m.\u001b[0m\u001b[0mvpy_objects\u001b[0m \u001b[1;33m=\u001b[0m \u001b[0mggb_vpy\u001b[0m\u001b[1;33m.\u001b[0m\u001b[0mdraw_points\u001b[0m\u001b[1;33m(\u001b[0m\u001b[0mself\u001b[0m\u001b[1;33m.\u001b[0m\u001b[0mPOINT_INFO_DICTS\u001b[0m\u001b[1;33m)\u001b[0m\u001b[1;33m\u001b[0m\u001b[1;33m\u001b[0m\u001b[0m\n\u001b[1;32m--> 227\u001b[1;33m \u001b[1;33m\u001b[0m\u001b[0m\n\u001b[0m\u001b[0;32m    228\u001b[0m         \u001b[0mself\u001b[0m\u001b[1;33m.\u001b[0m\u001b[0mPOINT_POSITIONS\u001b[0m \u001b[1;33m=\u001b[0m \u001b[1;33m[\u001b[0m\u001b[0mpoint\u001b[0m\u001b[1;33m[\u001b[0m\u001b[1;34m\"coords\"\u001b[0m\u001b[1;33m]\u001b[0m \u001b[1;32mfor\u001b[0m \u001b[0mpoint\u001b[0m \u001b[1;32min\u001b[0m \u001b[0mself\u001b[0m\u001b[1;33m.\u001b[0m\u001b[0mPOINT_INFO_DICTS\u001b[0m\u001b[1;33m]\u001b[0m\u001b[1;33m\u001b[0m\u001b[1;33m\u001b[0m\u001b[0m\n\u001b[0;32m    229\u001b[0m         \u001b[0mself\u001b[0m\u001b[1;33m.\u001b[0m\u001b[0mSOLVED_STATE\u001b[0m \u001b[1;33m=\u001b[0m \u001b[1;33m[\u001b[0m\u001b[0mpoint\u001b[0m\u001b[1;33m[\u001b[0m\u001b[1;34m\"vpy_color\"\u001b[0m\u001b[1;33m]\u001b[0m \u001b[1;32mfor\u001b[0m \u001b[0mpoint\u001b[0m \u001b[1;32min\u001b[0m \u001b[0mself\u001b[0m\u001b[1;33m.\u001b[0m\u001b[0mPOINT_INFO_DICTS\u001b[0m\u001b[1;33m]\u001b[0m\u001b[1;33m\u001b[0m\u001b[1;33m\u001b[0m\u001b[0m\n",
      "\u001b[1;32md:\\Uni\\Uni Potsdam\\Semester 4 (Nebenhörer)\\Reinforcement Learning\\RL-course\\project\\twisty_puzzle_analysis\\gui\\interaction_modules\\load_from_xml.py\u001b[0m in \u001b[0;36mload_puzzle\u001b[1;34m(puzzlename)\u001b[0m\n\u001b[0;32m     20\u001b[0m             \u001b[0mlist\u001b[0m \u001b[0mof\u001b[0m \u001b[0mlists\u001b[0m \u001b[0mof\u001b[0m \u001b[0mints\u001b[0m \u001b[1;32mas\u001b[0m \u001b[0mcycles\u001b[0m\u001b[1;33m\u001b[0m\u001b[1;33m\u001b[0m\u001b[0m\n\u001b[0;32m     21\u001b[0m     \"\"\"\n\u001b[1;32m---> 22\u001b[1;33m     \u001b[1;32mwith\u001b[0m \u001b[0mopen\u001b[0m\u001b[1;33m(\u001b[0m\u001b[0mos\u001b[0m\u001b[1;33m.\u001b[0m\u001b[0mpath\u001b[0m\u001b[1;33m.\u001b[0m\u001b[0mjoin\u001b[0m\u001b[1;33m(\u001b[0m\u001b[1;34m\"puzzles\"\u001b[0m\u001b[1;33m,\u001b[0m \u001b[0mpuzzlename\u001b[0m\u001b[1;33m,\u001b[0m \u001b[1;34m\"puzzle_definition.xml\"\u001b[0m\u001b[1;33m)\u001b[0m\u001b[1;33m)\u001b[0m \u001b[1;32mas\u001b[0m \u001b[0mpuzzle_file\u001b[0m\u001b[1;33m:\u001b[0m\u001b[1;33m\u001b[0m\u001b[1;33m\u001b[0m\u001b[0m\n\u001b[0m\u001b[0;32m     23\u001b[0m         \u001b[0mpuzzle_tree\u001b[0m \u001b[1;33m=\u001b[0m \u001b[0mET\u001b[0m\u001b[1;33m.\u001b[0m\u001b[0mparse\u001b[0m\u001b[1;33m(\u001b[0m\u001b[0mpuzzle_file\u001b[0m\u001b[1;33m)\u001b[0m\u001b[1;33m\u001b[0m\u001b[1;33m\u001b[0m\u001b[0m\n\u001b[0;32m     24\u001b[0m     \u001b[0mpoint_dicts\u001b[0m \u001b[1;33m=\u001b[0m \u001b[0mget_points\u001b[0m\u001b[1;33m(\u001b[0m\u001b[0mpuzzle_tree\u001b[0m\u001b[1;33m)\u001b[0m\u001b[1;33m\u001b[0m\u001b[1;33m\u001b[0m\u001b[0m\n",
      "\u001b[1;31mFileNotFoundError\u001b[0m: [Errno 2] No such file or directory: 'puzzles\\\\floppy_cube\\\\puzzle_definition.xml'"
     ]
    }
   ],
   "source": [
    "import sys\n",
    "sys.path.append(\"gui\")\n",
    "from gui.puzzle_class import Twisty_Puzzle\n",
    "\n",
    "puzzle = Twisty_Puzzle()\n",
    "puzzle.load_puzzle(\"floppy_cube\")\n",
    "\n",
    "q_table = import_q_table()\n",
    "inputs, outputs = prepare_data(puzzle, q_table)\n",
    "model = initialize_nn(puzzle)\n",
    "history = train_nn(model, inputs, outputs)"
   ]
  }
 ],
 "metadata": {
  "kernelspec": {
   "display_name": "Python 3.8.5 64-bit",
   "language": "python",
   "name": "python38564bit40039fc9f5864e99b33450205d4ec4f3"
  },
  "language_info": {
   "codemirror_mode": {
    "name": "ipython",
    "version": 3
   },
   "file_extension": ".py",
   "mimetype": "text/x-python",
   "name": "python",
   "nbconvert_exporter": "python",
   "pygments_lexer": "ipython3",
   "version": "3.8.5-final"
  }
 },
 "nbformat": 4,
 "nbformat_minor": 4
}