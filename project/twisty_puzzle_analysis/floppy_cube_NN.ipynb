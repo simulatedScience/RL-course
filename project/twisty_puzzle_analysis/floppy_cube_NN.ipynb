{
 "cells": [
  {
   "cell_type": "markdown",
   "metadata": {},
   "source": []
  },
  {
   "cell_type": "code",
   "execution_count": 1,
   "metadata": {},
   "outputs": [],
   "source": [
    "import keras\n",
    "import numpy\n",
    "from itertools import count\n",
    "\n",
    "def action_num ( game_object , action ) :\n",
    "    for i, act in zip(count(), game_object.ACTION_DICT.keys()):\n",
    "        if action == act :\n",
    "            return i\n",
    "\n",
    "def prepare_data ( game_object , q_table ) :\n",
    "    training_table = dict()\n",
    "    output_template = [0 for _ in range(len(game_object.ACTION_DICT))]\n",
    "    for state_action , value in q_table :\n",
    "        (state , action) = state_action\n",
    "        state = state + game_object.SOLVED_STATE\n",
    "        inner = training_table[state] or output_template.copy()\n",
    "        inner[action_num(action)] = value\n",
    "        training_table[state] = inner\n",
    "    return list(training_table.keys()) , list(training_table.values())\n",
    "\n",
    "def initilialize_nn ( game_object ):\n",
    "    actions = game_object.ACTION_DICT\n",
    "    solved_state = game_object.SOLVED_STATE\n",
    "    input_size = len(solved_state)*2\n",
    "    output_size = len(actions)\n",
    "    model = keras.Sequential()\n",
    "    model.add(keras.Input(shape=(input_size)))\n",
    "    model.add(keras.Dense((input_size+output_size)/2))\n",
    "    model.add(keras.Dense(output_size))\n",
    "    \n",
    "    model.compile(optimizer='adam', loss='mean_squared_error')\n",
    "    return model"
   ]
  }
 ],
 "metadata": {
  "kernelspec": {
   "display_name": "Python 3",
   "language": "python",
   "name": "python3"
  },
  "language_info": {
   "codemirror_mode": {
    "name": "ipython",
    "version": 3
   },
   "file_extension": ".py",
   "mimetype": "text/x-python",
   "name": "python",
   "nbconvert_exporter": "python",
   "pygments_lexer": "ipython3",
   "version": "3.8.5"
  }
 },
 "nbformat": 4,
 "nbformat_minor": 4
}
