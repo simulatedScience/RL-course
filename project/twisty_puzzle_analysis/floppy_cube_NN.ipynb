{
 "cells": [
  {
   "cell_type": "markdown",
   "metadata": {},
   "source": []
  },
  {
   "cell_type": "code",
   "execution_count": 1,
   "metadata": {},
   "outputs": [
    {
     "data": {
      "text/html": [
       "<div id=\"glowscript\" class=\"glowscript\"></div>"
      ],
      "text/plain": [
       "<IPython.core.display.HTML object>"
      ]
     },
     "metadata": {},
     "output_type": "display_data"
    },
    {
     "data": {
      "application/javascript": [
       "if (typeof Jupyter !== \"undefined\") { window.__context = { glowscript_container: $(\"#glowscript\").removeAttr(\"id\")};}else{ element.textContent = ' ';}"
      ],
      "text/plain": [
       "<IPython.core.display.Javascript object>"
      ]
     },
     "metadata": {},
     "output_type": "display_data"
    }
   ],
   "source": [
    "import os\n",
    "import sys\n",
    "import numpy\n",
    "import random\n",
    "from time import sleep\n",
    "from copy import deepcopy\n",
    "import tensorflow.keras as keras\n",
    "from keras import layers\n",
    "from itertools import count\n",
    "from gui.puzzle_class import Twisty_Puzzle\n",
    "from gui.ai_modules.ai_data_preparation import state_for_ai\n",
    "from gui.ai_modules.ai_puzzle_class import puzzle_ai\n",
    "from gui.ai_modules.twisty_puzzle_model import *\n",
    "\n",
    "def action_num (puzzle, action):\n",
    "    for i, act in zip(count(), puzzle.moves.keys()):\n",
    "        if action == act :\n",
    "            return i\n",
    "\n",
    "def action_from_num (puzzle, num):\n",
    "    list(puzzle.moves.values())[num]\n",
    "\n",
    "def prepare_data (puzzle, q_table):\n",
    "    training_table = dict()\n",
    "    output_template = [0 for _ in range(len(puzzle.moves))]\n",
    "    for state_action , value in q_table.items() :\n",
    "        (state , action) = state_action\n",
    "        inner = training_table.get(state) or output_template.copy()\n",
    "        inner[action_num(puzzle, action)] = value\n",
    "        training_table[state] = inner\n",
    "    return list(training_table.keys()) , list(training_table.values())\n",
    "\n",
    "def import_q_table (filename):\n",
    "    q_table = dict()\n",
    "    with open(filename, \"r\") as file:\n",
    "        q_table = eval (file.read())\n",
    "    return q_table"
   ]
  },
  {
   "cell_type": "code",
   "execution_count": 2,
   "metadata": {},
   "outputs": [],
   "source": [
    "def initialize_nn (puzzle):\n",
    "    actions = puzzle.moves\n",
    "    solved_state = state_for_ai(puzzle.SOLVED_STATE)[0]\n",
    "    input_size = len(solved_state)\n",
    "    output_size = len(actions)\n",
    "    model = keras.Sequential()\n",
    "    model.add(layers.Input(shape=(input_size,)))\n",
    "    model.add(layers.Dense(input_size))\n",
    "    model.add(layers.Dense((input_size+output_size)/2))\n",
    "    model.add(layers.Dense(output_size))\n",
    "    model.add(layers.Dense(output_size))\n",
    "    \n",
    "    model.compile(optimizer='adam', loss='mean_squared_error')\n",
    "    return model"
   ]
  },
  {
   "cell_type": "code",
   "execution_count": 3,
   "metadata": {},
   "outputs": [],
   "source": [
    "def train_nn (model, samples, labels, epochs=100, batch_size=30):\n",
    "    return model.fit(samples, labels, epochs=epochs, batch_size=batch_size,\n",
    "                     use_multiprocessing=True, verbose=False)"
   ]
  },
  {
   "cell_type": "code",
   "execution_count": 4,
   "metadata": {},
   "outputs": [],
   "source": [
    "def nn_get_greedy_move (model, state, actions):\n",
    "    predictions = list(model.predict([tuple(state)], use_multiprocessing=True)[0])\n",
    "    max_value = None\n",
    "    moves = []\n",
    "    for move, value in enumerate(predictions):\n",
    "        if (not max_value) or value > max_value:\n",
    "            moves = [move]\n",
    "            max_value = value\n",
    "        elif value == max_value:\n",
    "            moves.append(move)\n",
    "    print(state)\n",
    "    print(predictions,moves)\n",
    "    return actions[random.choice(moves)]\n",
    "\n",
    "def nn_get_epsilon_greedy_move (model, state, actions, epsilon=0.5):\n",
    "    if random.random() > epsilon:\n",
    "        return nn_get_greedy_move(model, state, actions)\n",
    "    else:\n",
    "        return random.choice(list(puzzle.moves.values()))\n",
    "\n",
    "def nn_solve_puzzle (model, state, solved_state, actions, max_moves, epsilon=0):\n",
    "    moves = []\n",
    "    while max_moves >= 0:\n",
    "        if state == solved_state:\n",
    "            return moves, True\n",
    "        else :\n",
    "            move = nn_get_epsilon_greedy_move(model, state, list(actions.keys()), epsilon=epsilon)\n",
    "            moves.append(move)\n",
    "            state = perform_action(state, actions[move])\n",
    "            max_moves -= 1\n",
    "    return moves, False"
   ]
  },
  {
   "cell_type": "code",
   "execution_count": 5,
   "metadata": {
    "scrolled": false
   },
   "outputs": [
    {
     "data": {
      "text/html": [
       "<div id=\"glowscript\" class=\"glowscript\"></div>"
      ],
      "text/plain": [
       "<IPython.core.display.HTML object>"
      ]
     },
     "metadata": {},
     "output_type": "display_data"
    },
    {
     "data": {
      "application/javascript": [
       "if (typeof Jupyter !== \"undefined\") { window.__context = { glowscript_container: $(\"#glowscript\").removeAttr(\"id\")};}else{ element.textContent = ' ';}"
      ],
      "text/plain": [
       "<IPython.core.display.Javascript object>"
      ]
     },
     "metadata": {},
     "output_type": "display_data"
    },
    {
     "data": {
      "application/javascript": [
       "if (typeof Jupyter !== \"undefined\") {require.undef(\"nbextensions/vpython_libraries/glow.min\");}else{element.textContent = ' ';}"
      ],
      "text/plain": [
       "<IPython.core.display.Javascript object>"
      ]
     },
     "metadata": {},
     "output_type": "display_data"
    },
    {
     "data": {
      "application/javascript": [
       "if (typeof Jupyter !== \"undefined\") {require.undef(\"nbextensions/vpython_libraries/glowcomm\");}else{element.textContent = ' ';}"
      ],
      "text/plain": [
       "<IPython.core.display.Javascript object>"
      ]
     },
     "metadata": {},
     "output_type": "display_data"
    },
    {
     "data": {
      "application/javascript": [
       "if (typeof Jupyter !== \"undefined\") {require.undef(\"nbextensions/vpython_libraries/jquery-ui.custom.min\");}else{element.textContent = ' ';}"
      ],
      "text/plain": [
       "<IPython.core.display.Javascript object>"
      ]
     },
     "metadata": {},
     "output_type": "display_data"
    },
    {
     "data": {
      "application/javascript": [
       "if (typeof Jupyter !== \"undefined\") {require([\"nbextensions/vpython_libraries/glow.min\"], function(){console.log(\"GLOW LOADED\");});}else{element.textContent = ' ';}"
      ],
      "text/plain": [
       "<IPython.core.display.Javascript object>"
      ]
     },
     "metadata": {},
     "output_type": "display_data"
    },
    {
     "data": {
      "application/javascript": [
       "if (typeof Jupyter !== \"undefined\") {require([\"nbextensions/vpython_libraries/glowcomm\"], function(){console.log(\"GLOWCOMM LOADED\");});}else{element.textContent = ' ';}"
      ],
      "text/plain": [
       "<IPython.core.display.Javascript object>"
      ]
     },
     "metadata": {},
     "output_type": "display_data"
    },
    {
     "data": {
      "application/javascript": [
       "if (typeof Jupyter !== \"undefined\") {require([\"nbextensions/vpython_libraries/jquery-ui.custom.min\"], function(){console.log(\"JQUERY LOADED\");});}else{element.textContent = ' ';}"
      ],
      "text/plain": [
       "<IPython.core.display.Javascript object>"
      ]
     },
     "metadata": {},
     "output_type": "display_data"
    },
    {
     "name": "stdout",
     "output_type": "stream",
     "text": [
      "Load the existing neural network? [Y/n] n\n",
      "WARNING:tensorflow:From /home/thomas/.local/lib/python3.8/site-packages/tensorflow/python/training/tracking/tracking.py:111: Model.state_updates (from tensorflow.python.keras.engine.training) is deprecated and will be removed in a future version.\n",
      "Instructions for updating:\n",
      "This property should not be used in TensorFlow 2.0, as updates are applied automatically.\n"
     ]
    },
    {
     "name": "stderr",
     "output_type": "stream",
     "text": [
      "From /home/thomas/.local/lib/python3.8/site-packages/tensorflow/python/training/tracking/tracking.py:111: Model.state_updates (from tensorflow.python.keras.engine.training) is deprecated and will be removed in a future version.\n",
      "Instructions for updating:\n",
      "This property should not be used in TensorFlow 2.0, as updates are applied automatically.\n"
     ]
    },
    {
     "name": "stdout",
     "output_type": "stream",
     "text": [
      "WARNING:tensorflow:From /home/thomas/.local/lib/python3.8/site-packages/tensorflow/python/training/tracking/tracking.py:111: Layer.updates (from tensorflow.python.keras.engine.base_layer) is deprecated and will be removed in a future version.\n",
      "Instructions for updating:\n",
      "This property should not be used in TensorFlow 2.0, as updates are applied automatically.\n"
     ]
    },
    {
     "name": "stderr",
     "output_type": "stream",
     "text": [
      "From /home/thomas/.local/lib/python3.8/site-packages/tensorflow/python/training/tracking/tracking.py:111: Layer.updates (from tensorflow.python.keras.engine.base_layer) is deprecated and will be removed in a future version.\n",
      "Instructions for updating:\n",
      "This property should not be used in TensorFlow 2.0, as updates are applied automatically.\n"
     ]
    },
    {
     "name": "stdout",
     "output_type": "stream",
     "text": [
      "INFO:tensorflow:Assets written to: floppy_cube.nn/assets\n"
     ]
    },
    {
     "name": "stderr",
     "output_type": "stream",
     "text": [
      "Assets written to: floppy_cube.nn/assets\n"
     ]
    }
   ],
   "source": [
    "puzzle = Twisty_Puzzle()\n",
    "puzzle.load_puzzle(\"floppy_cube\")\n",
    "\n",
    "## {{{ http://code.activestate.com/recipes/577058/ (r2)\n",
    "def query_yes_no(question, default=\"yes\"):\n",
    "    \"\"\"Ask a yes/no question via raw_input() and return their answer.\n",
    "\n",
    "    \"question\" is a string that is presented to the user.\n",
    "    \"default\" is the presumed answer if the user just hits <Enter>.\n",
    "        It must be \"yes\" (the default), \"no\" or None (meaning\n",
    "        an answer is required of the user).\n",
    "\n",
    "    The \"answer\" return value is one of \"yes\" or \"no\".\n",
    "    \"\"\"\n",
    "    valid = {\"yes\":True,   \"y\":True,  \"ye\":True,\n",
    "             \"no\":False,     \"n\":False}\n",
    "    if default == None:\n",
    "        prompt = \" [y/n] \"\n",
    "    elif default == \"yes\":\n",
    "        prompt = \" [Y/n] \"\n",
    "    elif default == \"no\":\n",
    "        prompt = \" [y/N] \"\n",
    "    else:\n",
    "        raise ValueError(\"invalid default answer: '%s'\" % default)\n",
    "\n",
    "    while 1:\n",
    "        sys.stdout.write(question + prompt)\n",
    "        choice = input().lower()\n",
    "        if default is not None and choice == '':\n",
    "            return default\n",
    "        elif choice in valid.keys():\n",
    "            return valid[choice]\n",
    "        else:\n",
    "            sys.stdout.write(\"Please respond with 'yes' or 'no' \"\\\n",
    "                             \"(or 'y' or 'n').\\n\")\n",
    "## end of http://code.activestate.com/recipes/577058/ }}}\n",
    "\n",
    "model = None\n",
    "if query_yes_no(\"Load the existing neural network?\"):\n",
    "    model = keras.models.load_model(\"floppy_cube.nn\")\n",
    "else:\n",
    "    q_table = import_q_table(\"gui/puzzles/floppy_cube/Q_table.txt\")\n",
    "    inputs, outputs = prepare_data(puzzle, q_table)\n",
    "    model = initialize_nn(puzzle)\n",
    "    history = train_nn(model, inputs, outputs, epochs=1000, batch_size=100)\n",
    "\n",
    "    model.save(\"floppy_cube.nn\")"
   ]
  },
  {
   "cell_type": "code",
   "execution_count": 6,
   "metadata": {
    "scrolled": true
   },
   "outputs": [
    {
     "name": "stdout",
     "output_type": "stream",
     "text": [
      "solved state: [0, 0, 0, 0, 0, 0, 0, 1, 1, 1, 0, 1, 1, 0, 1, 1, 1, 1, 2, 2, 2, 3, 3, 3, 4, 4, 4, 5, 5, 5]\n",
      "start:        [1, 0, 0, 0, 0, 1, 1, 1, 1, 0, 1, 0, 0, 0, 1, 0, 1, 1, 2, 2, 4, 5, 3, 3, 2, 4, 4, 3, 5, 5]\n",
      "[1, 0, 0, 0, 0, 1, 1, 1, 1, 0, 1, 0, 0, 0, 1, 0, 1, 1, 2, 2, 4, 5, 3, 3, 2, 4, 4, 3, 5, 5]\n",
      "[-0.0006388407, 0.004257327, 0.0027144663, -0.00083175674] [1]\n",
      "[1, 1, 0, 0, 0, 1, 1, 1, 0, 0, 1, 0, 0, 0, 1, 0, 1, 1, 4, 2, 4, 3, 3, 5, 2, 4, 2, 3, 5, 5]\n",
      "[0.00060786493, -0.0028312001, -0.0019611605, 0.0006866865] [3]\n",
      "[1, 1, 0, 0, 0, 0, 1, 1, 0, 0, 1, 0, 0, 0, 1, 1, 1, 1, 4, 2, 2, 3, 3, 5, 4, 4, 2, 5, 5, 3]\n",
      "[0.0074136797, -0.0032457095, -0.010740764, -0.005801632] [0]\n",
      "[1, 1, 1, 1, 1, 0, 1, 0, 0, 0, 1, 0, 0, 0, 1, 1, 0, 0, 2, 2, 4, 3, 3, 5, 4, 4, 2, 5, 5, 3]\n",
      "[0.00037169643, -0.00061124004, -0.00016156211, 0.0007508807] [3]\n",
      "[1, 1, 1, 1, 0, 1, 0, 0, 0, 0, 1, 0, 1, 0, 1, 0, 1, 0, 2, 2, 4, 3, 3, 5, 4, 4, 2, 3, 5, 5]\n",
      "[-0.0016370099, 0.0014749523, 0.0016346537, -0.0003511794] [2]\n",
      "[1, 1, 1, 1, 0, 1, 0, 0, 0, 0, 0, 1, 1, 0, 1, 0, 1, 0, 2, 2, 4, 5, 3, 5, 2, 4, 4, 3, 5, 3]\n",
      "[-0.0017954092, -0.001054788, 0.0028119795, 0.0035135113] [3]\n",
      "[1, 1, 1, 1, 1, 0, 1, 0, 0, 0, 0, 1, 0, 0, 1, 1, 0, 0, 2, 2, 2, 5, 3, 5, 4, 4, 4, 3, 5, 3]\n",
      "[0.0018016715, 0.007614052, 0.000962954, -0.004274469] [1]\n",
      "[0, 0, 0, 1, 1, 0, 1, 1, 1, 1, 0, 1, 0, 0, 1, 1, 0, 0, 4, 2, 2, 5, 3, 5, 4, 4, 2, 3, 5, 3]\n",
      "[0.0026378501, -0.0052035544, -0.0046320893, 0.00047783926] [0]\n",
      "[0, 0, 0, 0, 1, 0, 1, 1, 1, 1, 0, 1, 0, 0, 1, 1, 0, 1, 2, 2, 4, 5, 3, 3, 4, 4, 2, 5, 5, 3]\n",
      "[0.0010125358, -0.0013975743, -0.0004052557, 0.0016891621] [3]\n",
      "[0, 0, 0, 0, 0, 1, 0, 1, 1, 1, 0, 1, 1, 0, 1, 0, 1, 1, 2, 2, 4, 5, 3, 3, 4, 4, 2, 3, 5, 5]\n",
      "[-0.0009959918, 0.00068837963, 0.0013913624, 0.0005865954] [2]\n",
      "[1, 0, 0, 0, 0, 1, 1, 1, 1, 0, 1, 0, 0, 0, 1, 0, 1, 1, 2, 2, 4, 5, 3, 3, 2, 4, 4, 3, 5, 5]\n",
      "[-0.0006388407, 0.004257327, 0.0027144663, -0.00083175674] [1]\n",
      "end:          [1, 1, 0, 0, 0, 1, 1, 1, 0, 0, 1, 0, 0, 0, 1, 0, 1, 1, 4, 2, 4, 3, 3, 5, 2, 4, 2, 3, 5, 5]\n",
      "False\n",
      "['r', 'l', 'f', 'l', 'b', 'l', 'r', 'f', 'l', 'b', 'r']\n"
     ]
    }
   ],
   "source": [
    "puzzle.reset_to_solved()\n",
    "solved_state = state_for_ai(puzzle.SOLVED_STATE)[0]\n",
    "state = deepcopy(solved_state)\n",
    "scramble_moves = scramble(state, puzzle.moves, max_moves=2)\n",
    "start_state = deepcopy(state)\n",
    "\n",
    "print(\"solved state:\", solved_state)\n",
    "print(\"start:       \", state)\n",
    "(solution, solved) = nn_solve_puzzle(model, state, solved_state, puzzle.moves, 10)\n",
    "print(\"end:         \", state)\n",
    "print(solved)\n",
    "print(solution)\n",
    "\n",
    "for move in scramble_moves:\n",
    "    puzzle.perform_move(move)\n",
    "for move in solution:\n",
    "    puzzle.perform_move(move)"
   ]
  },
  {
   "cell_type": "code",
   "execution_count": null,
   "metadata": {},
   "outputs": [],
   "source": []
  }
 ],
 "metadata": {
  "kernelspec": {
   "display_name": "Python 3",
   "language": "python",
   "name": "python3"
  },
  "language_info": {
   "codemirror_mode": {
    "name": "ipython",
    "version": 3
   },
   "file_extension": ".py",
   "mimetype": "text/x-python",
   "name": "python",
   "nbconvert_exporter": "python",
   "pygments_lexer": "ipython3",
   "version": "3.8.5"
  }
 },
 "nbformat": 4,
 "nbformat_minor": 4
}
