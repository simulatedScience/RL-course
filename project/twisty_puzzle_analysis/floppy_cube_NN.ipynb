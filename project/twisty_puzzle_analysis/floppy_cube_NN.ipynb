{
 "cells": [
  {
   "cell_type": "markdown",
   "metadata": {},
   "source": []
  },
  {
   "cell_type": "code",
   "execution_count": 1,
   "metadata": {},
   "outputs": [
    {
     "data": {
      "text/html": [
       "<div id=\"glowscript\" class=\"glowscript\"></div>"
      ],
      "text/plain": [
       "<IPython.core.display.HTML object>"
      ]
     },
     "metadata": {},
     "output_type": "display_data"
    },
    {
     "data": {
      "application/javascript": [
       "if (typeof Jupyter !== \"undefined\") { window.__context = { glowscript_container: $(\"#glowscript\").removeAttr(\"id\")};}else{ element.textContent = ' ';}"
      ],
      "text/plain": [
       "<IPython.core.display.Javascript object>"
      ]
     },
     "metadata": {},
     "output_type": "display_data"
    }
   ],
   "source": [
    "import os\n",
    "import numpy\n",
    "import random\n",
    "import tensorflow.keras as keras\n",
    "from keras import layers\n",
    "from itertools import count\n",
    "from gui.puzzle_class import Twisty_Puzzle\n",
    "from gui.ai_modules.ai_data_preparation import state_for_ai\n",
    "\n",
    "def action_num (puzzle, action):\n",
    "    for i, act in zip(count(), puzzle.moves.keys()):\n",
    "        if action == act :\n",
    "            return i\n",
    "\n",
    "def action_from_num (puzzle, num):\n",
    "    list(puzzle.moves.values())[num]\n",
    "\n",
    "def prepare_data (puzzle, q_table):\n",
    "    training_table = dict()\n",
    "    output_template = [0 for _ in range(len(puzzle.moves))]\n",
    "    for state_action , value in q_table.items() :\n",
    "        (state , action) = state_action\n",
    "        state += tuple(state_for_ai(puzzle.SOLVED_STATE)[0])\n",
    "        inner = training_table.get(state) or output_template.copy()\n",
    "        inner[action_num(puzzle, action)] = value\n",
    "        training_table[state] = inner\n",
    "    return list(training_table.keys()) , list(training_table.values())\n",
    "\n",
    "def import_q_table (filename=\"floppy_q_table.txt\"):\n",
    "    q_table = dict()\n",
    "    with open(filename, \"r\") as file:\n",
    "        q_table = eval (file.read())\n",
    "    return q_table"
   ]
  },
  {
   "cell_type": "code",
   "execution_count": 2,
   "metadata": {},
   "outputs": [],
   "source": [
    "def initialize_nn (puzzle):\n",
    "    actions = game_object.moves\n",
    "    solved_state = state_for_ai(game_object.SOLVED_STATE)[0]\n",
    "    input_size = len(solved_state)*2\n",
    "    output_size = len(actions)\n",
    "    model = keras.Sequential()\n",
    "    model.add(layers.Input(shape=(input_size)))\n",
    "    model.add(layers.Dense((input_size+output_size)/2))\n",
    "    model.add(layers.Dense(output_size))\n",
    "    \n",
    "    model.compile(optimizer='adam', loss='mean_squared_error')\n",
    "    return model"
   ]
  },
  {
   "cell_type": "code",
   "execution_count": 3,
   "metadata": {},
   "outputs": [],
   "source": [
    "def train_nn (model, samples, labels, epochs=100, batch_size=30):\n",
    "    return model.fit(samples, labels, epochs=epochs, batch_size=batch_size,\n",
    "                     use_multiprocessing=True, verbose=False)"
   ]
  },
  {
   "cell_type": "code",
   "execution_count": 4,
   "metadata": {
    "scrolled": false
   },
   "outputs": [
    {
     "data": {
      "text/html": [
       "<div id=\"glowscript\" class=\"glowscript\"></div>"
      ],
      "text/plain": [
       "<IPython.core.display.HTML object>"
      ]
     },
     "metadata": {},
     "output_type": "display_data"
    },
    {
     "data": {
      "application/javascript": [
       "if (typeof Jupyter !== \"undefined\") { window.__context = { glowscript_container: $(\"#glowscript\").removeAttr(\"id\")};}else{ element.textContent = ' ';}"
      ],
      "text/plain": [
       "<IPython.core.display.Javascript object>"
      ]
     },
     "metadata": {},
     "output_type": "display_data"
    },
    {
     "data": {
      "application/javascript": [
       "if (typeof Jupyter !== \"undefined\") {require.undef(\"nbextensions/vpython_libraries/glow.min\");}else{element.textContent = ' ';}"
      ],
      "text/plain": [
       "<IPython.core.display.Javascript object>"
      ]
     },
     "metadata": {},
     "output_type": "display_data"
    },
    {
     "data": {
      "application/javascript": [
       "if (typeof Jupyter !== \"undefined\") {require.undef(\"nbextensions/vpython_libraries/glowcomm\");}else{element.textContent = ' ';}"
      ],
      "text/plain": [
       "<IPython.core.display.Javascript object>"
      ]
     },
     "metadata": {},
     "output_type": "display_data"
    },
    {
     "data": {
      "application/javascript": [
       "if (typeof Jupyter !== \"undefined\") {require.undef(\"nbextensions/vpython_libraries/jquery-ui.custom.min\");}else{element.textContent = ' ';}"
      ],
      "text/plain": [
       "<IPython.core.display.Javascript object>"
      ]
     },
     "metadata": {},
     "output_type": "display_data"
    },
    {
     "data": {
      "application/javascript": [
       "if (typeof Jupyter !== \"undefined\") {require([\"nbextensions/vpython_libraries/glow.min\"], function(){console.log(\"GLOW LOADED\");});}else{element.textContent = ' ';}"
      ],
      "text/plain": [
       "<IPython.core.display.Javascript object>"
      ]
     },
     "metadata": {},
     "output_type": "display_data"
    },
    {
     "data": {
      "application/javascript": [
       "if (typeof Jupyter !== \"undefined\") {require([\"nbextensions/vpython_libraries/glowcomm\"], function(){console.log(\"GLOWCOMM LOADED\");});}else{element.textContent = ' ';}"
      ],
      "text/plain": [
       "<IPython.core.display.Javascript object>"
      ]
     },
     "metadata": {},
     "output_type": "display_data"
    },
    {
     "data": {
      "application/javascript": [
       "if (typeof Jupyter !== \"undefined\") {require([\"nbextensions/vpython_libraries/jquery-ui.custom.min\"], function(){console.log(\"JQUERY LOADED\");});}else{element.textContent = ' ';}"
      ],
      "text/plain": [
       "<IPython.core.display.Javascript object>"
      ]
     },
     "metadata": {},
     "output_type": "display_data"
    }
   ],
   "source": [
    "puzzle = Twisty_Puzzle()\n",
    "puzzle.load_puzzle(\"floppy_cube\")\n",
    "\n",
    "q_table = import_q_table()\n",
    "inputs, outputs = prepare_data(puzzle, q_table)\n",
    "model = initialize_nn(puzzle)\n",
    "history = train_nn(model, inputs, outputs)"
   ]
  },
  {
   "cell_type": "code",
   "execution_count": null,
   "metadata": {},
   "outputs": [],
   "source": [
    "ai_state, color_list = state_for_ai(puzzle.SOLVED_STATE)\n",
    "reward_dict = {\"solved\":1, \"timeout\":-1, \"move\":-0.02}\n",
    "AI_class = puzzle_ai(deepcopy(puzzle.moves), ai_state, reward_dict=reward_dict, name=puzzle.PUZZLE_NAME)\n",
    "\n",
    "def nn_get_greedy_move (model, puzzle):\n",
    "    state = state_for_ai(puzzle.vpy_objects)[0] \\\n",
    "        + state_for_ai(puzzle.SOLVED_STATE)[0]\n",
    "    predictions = list(model.predict(state))\n",
    "    max_value = None\n",
    "    actions = []\n",
    "    for action, value in enumerate(predictions):\n",
    "        if not max_value or value > max_value:\n",
    "            actions = [action]\n",
    "            max_value = value\n",
    "        elif value == max_value:\n",
    "            actions.append(action)\n",
    "    return action_from_num(random.choice(actions))\n",
    "\n",
    "def nn_get_epsilon_greedy_move (model, puzzle, epsilon=0.5):\n",
    "    if random.random() > epsilon:\n",
    "        return nn_get_greedy_move(model, puzzle)\n",
    "    else:\n",
    "        return random.choice(list(puzzle.moves.values()))\n",
    "\n",
    "def nn_solve_puzzle (model, puzzle, max_moves, epsilon=0):\n",
    "    while max_moves >= 0:\n",
    "        if state_for_ai(puzzle.SOLVED_STATE)[0] == state_for_ai(puzzle.vpy_objects)[0]:\n",
    "            return True\n",
    "        else :\n",
    "            puzzle.perform_move(nn_get_epsilon_greedy_move(model, puzzle, epsilon=epsilon))\n",
    "            max_moves -= 1\n",
    "    return False"
   ]
  }
 ],
 "metadata": {
  "kernelspec": {
   "display_name": "Python 3",
   "language": "python",
   "name": "python3"
  },
  "language_info": {
   "codemirror_mode": {
    "name": "ipython",
    "version": 3
   },
   "file_extension": ".py",
   "mimetype": "text/x-python",
   "name": "python",
   "nbconvert_exporter": "python",
   "pygments_lexer": "ipython3",
   "version": "3.8.5"
  }
 },
 "nbformat": 4,
 "nbformat_minor": 4
}
